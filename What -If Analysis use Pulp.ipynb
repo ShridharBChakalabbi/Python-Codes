{
 "cells": [
  {
   "cell_type": "code",
   "execution_count": 1,
   "metadata": {},
   "outputs": [],
   "source": [
    "import pandas as pd\n",
    "import numpy as np"
   ]
  },
  {
   "cell_type": "code",
   "execution_count": 4,
   "metadata": {},
   "outputs": [
    {
     "data": {
      "text/html": [
       "<div>\n",
       "<style scoped>\n",
       "    .dataframe tbody tr th:only-of-type {\n",
       "        vertical-align: middle;\n",
       "    }\n",
       "\n",
       "    .dataframe tbody tr th {\n",
       "        vertical-align: top;\n",
       "    }\n",
       "\n",
       "    .dataframe thead th {\n",
       "        text-align: right;\n",
       "    }\n",
       "</style>\n",
       "<table border=\"1\" class=\"dataframe\">\n",
       "  <thead>\n",
       "    <tr style=\"text-align: right;\">\n",
       "      <th></th>\n",
       "      <th>Unnamed: 0</th>\n",
       "      <th>AuthDate</th>\n",
       "      <th>PrdId</th>\n",
       "      <th>SchId</th>\n",
       "      <th>BaseQty</th>\n",
       "      <th>PrdNetAmount</th>\n",
       "      <th>PrdGrossAmount</th>\n",
       "      <th>Budget</th>\n",
       "    </tr>\n",
       "  </thead>\n",
       "  <tbody>\n",
       "    <tr>\n",
       "      <th>0</th>\n",
       "      <td>1</td>\n",
       "      <td>2014-05-21 00:00:00</td>\n",
       "      <td>21</td>\n",
       "      <td>850</td>\n",
       "      <td>10</td>\n",
       "      <td>1102.22222</td>\n",
       "      <td>9.876543e+02</td>\n",
       "      <td>13922</td>\n",
       "    </tr>\n",
       "    <tr>\n",
       "      <th>1</th>\n",
       "      <td>2</td>\n",
       "      <td>2012-04-24 00:00:00</td>\n",
       "      <td>27</td>\n",
       "      <td>1232</td>\n",
       "      <td>5</td>\n",
       "      <td>24942.35981</td>\n",
       "      <td>2.685825e+04</td>\n",
       "      <td>155100</td>\n",
       "    </tr>\n",
       "    <tr>\n",
       "      <th>2</th>\n",
       "      <td>3</td>\n",
       "      <td>2012-04-24 00:00:00</td>\n",
       "      <td>27</td>\n",
       "      <td>1232</td>\n",
       "      <td>188</td>\n",
       "      <td>981004.68000</td>\n",
       "      <td>1.009870e+06</td>\n",
       "      <td>155100</td>\n",
       "    </tr>\n",
       "    <tr>\n",
       "      <th>3</th>\n",
       "      <td>4</td>\n",
       "      <td>2012-08-23 00:00:00</td>\n",
       "      <td>92</td>\n",
       "      <td>1387</td>\n",
       "      <td>24</td>\n",
       "      <td>803.22936</td>\n",
       "      <td>7.968545e+02</td>\n",
       "      <td>3555</td>\n",
       "    </tr>\n",
       "    <tr>\n",
       "      <th>4</th>\n",
       "      <td>5</td>\n",
       "      <td>2013-02-18 00:00:00</td>\n",
       "      <td>92</td>\n",
       "      <td>1671</td>\n",
       "      <td>3</td>\n",
       "      <td>107.33945</td>\n",
       "      <td>1.022280e+02</td>\n",
       "      <td>3383</td>\n",
       "    </tr>\n",
       "  </tbody>\n",
       "</table>\n",
       "</div>"
      ],
      "text/plain": [
       "   Unnamed: 0             AuthDate  PrdId  SchId  BaseQty  PrdNetAmount  \\\n",
       "0           1  2014-05-21 00:00:00     21    850       10    1102.22222   \n",
       "1           2  2012-04-24 00:00:00     27   1232        5   24942.35981   \n",
       "2           3  2012-04-24 00:00:00     27   1232      188  981004.68000   \n",
       "3           4  2012-08-23 00:00:00     92   1387       24     803.22936   \n",
       "4           5  2013-02-18 00:00:00     92   1671        3     107.33945   \n",
       "\n",
       "   PrdGrossAmount  Budget  \n",
       "0    9.876543e+02   13922  \n",
       "1    2.685825e+04  155100  \n",
       "2    1.009870e+06  155100  \n",
       "3    7.968545e+02    3555  \n",
       "4    1.022280e+02    3383  "
      ]
     },
     "execution_count": 4,
     "metadata": {},
     "output_type": "execute_result"
    }
   ],
   "source": [
    "Data1 = pd.read_csv(\"/home/shridhar/Downloads/Finaldata.csv\")\n",
    "Data1.head()"
   ]
  },
  {
   "cell_type": "code",
   "execution_count": 5,
   "metadata": {},
   "outputs": [],
   "source": [
    "profit = Data1.PrdGrossAmount - Data1.PrdNetAmount"
   ]
  },
  {
   "cell_type": "code",
   "execution_count": 6,
   "metadata": {},
   "outputs": [],
   "source": [
    "aa=Data1.groupby(['PrdId'])['BaseQty','PrdGrossAmount','Budget'].sum()"
   ]
  },
  {
   "cell_type": "code",
   "execution_count": 7,
   "metadata": {},
   "outputs": [],
   "source": [
    "aa.reset_index(level=0, inplace=True)\n"
   ]
  },
  {
   "cell_type": "code",
   "execution_count": 10,
   "metadata": {},
   "outputs": [
    {
     "data": {
      "text/html": [
       "<div>\n",
       "<style scoped>\n",
       "    .dataframe tbody tr th:only-of-type {\n",
       "        vertical-align: middle;\n",
       "    }\n",
       "\n",
       "    .dataframe tbody tr th {\n",
       "        vertical-align: top;\n",
       "    }\n",
       "\n",
       "    .dataframe thead th {\n",
       "        text-align: right;\n",
       "    }\n",
       "</style>\n",
       "<table border=\"1\" class=\"dataframe\">\n",
       "  <thead>\n",
       "    <tr style=\"text-align: right;\">\n",
       "      <th></th>\n",
       "      <th>PrdId</th>\n",
       "      <th>BaseQty</th>\n",
       "      <th>PrdGrossAmount</th>\n",
       "      <th>Budget</th>\n",
       "      <th>Unit_gross_amount</th>\n",
       "    </tr>\n",
       "  </thead>\n",
       "  <tbody>\n",
       "    <tr>\n",
       "      <th>0</th>\n",
       "      <td>21</td>\n",
       "      <td>10</td>\n",
       "      <td>9.876543e+02</td>\n",
       "      <td>13922</td>\n",
       "      <td>98.765432</td>\n",
       "    </tr>\n",
       "    <tr>\n",
       "      <th>1</th>\n",
       "      <td>27</td>\n",
       "      <td>193</td>\n",
       "      <td>1.036728e+06</td>\n",
       "      <td>310200</td>\n",
       "      <td>5371.650000</td>\n",
       "    </tr>\n",
       "    <tr>\n",
       "      <th>2</th>\n",
       "      <td>92</td>\n",
       "      <td>248</td>\n",
       "      <td>8.336392e+03</td>\n",
       "      <td>198679</td>\n",
       "      <td>33.614482</td>\n",
       "    </tr>\n",
       "    <tr>\n",
       "      <th>3</th>\n",
       "      <td>93</td>\n",
       "      <td>9203</td>\n",
       "      <td>9.568327e+05</td>\n",
       "      <td>24010128</td>\n",
       "      <td>103.969649</td>\n",
       "    </tr>\n",
       "    <tr>\n",
       "      <th>4</th>\n",
       "      <td>95</td>\n",
       "      <td>10</td>\n",
       "      <td>3.494976e+02</td>\n",
       "      <td>13532</td>\n",
       "      <td>34.949760</td>\n",
       "    </tr>\n",
       "  </tbody>\n",
       "</table>\n",
       "</div>"
      ],
      "text/plain": [
       "   PrdId  BaseQty  PrdGrossAmount    Budget  Unit_gross_amount\n",
       "0     21       10    9.876543e+02     13922          98.765432\n",
       "1     27      193    1.036728e+06    310200        5371.650000\n",
       "2     92      248    8.336392e+03    198679          33.614482\n",
       "3     93     9203    9.568327e+05  24010128         103.969649\n",
       "4     95       10    3.494976e+02     13532          34.949760"
      ]
     },
     "execution_count": 10,
     "metadata": {},
     "output_type": "execute_result"
    }
   ],
   "source": [
    "aa['Unit_gross_amount']=aa.PrdGrossAmount/aa.BaseQty\n",
    "aa.head()"
   ]
  },
  {
   "cell_type": "code",
   "execution_count": 11,
   "metadata": {},
   "outputs": [],
   "source": [
    "from pulp import *\n",
    "import numpy as np\n",
    "import pandas as pd\n",
    "import re\n",
    "import matplotlib.pyplot as plt"
   ]
  },
  {
   "cell_type": "code",
   "execution_count": 12,
   "metadata": {},
   "outputs": [
    {
     "data": {
      "text/plain": [
       "[<matplotlib.lines.Line2D at 0x7f2b1575ba90>]"
      ]
     },
     "execution_count": 12,
     "metadata": {},
     "output_type": "execute_result"
    },
    {
     "data": {
      "image/png": "[encoded data removed]",
      "text/plain": [
       "<Figure size 432x288 with 1 Axes>"
      ]
     },
     "metadata": {
      "needs_background": "light"
     },
     "output_type": "display_data"
    }
   ],
   "source": [
    "plt.plot(aa.PrdId,aa.BaseQty)"
   ]
  },
  {
   "cell_type": "code",
   "execution_count": 13,
   "metadata": {},
   "outputs": [
    {
     "data": {
      "text/plain": [
       "[<matplotlib.lines.Line2D at 0x7f2b156803c8>]"
      ]
     },
     "execution_count": 13,
     "metadata": {},
     "output_type": "execute_result"
    },
    {
     "data": {
      "image/png": "[encoded data removed]",
      "text/plain": [
       "<Figure size 432x288 with 1 Axes>"
      ]
     },
     "metadata": {
      "needs_background": "light"
     },
     "output_type": "display_data"
    }
   ],
   "source": [
    "plt.plot(aa.PrdId,aa.PrdGrossAmount)"
   ]
  },
  {
   "cell_type": "code",
   "execution_count": 14,
   "metadata": {},
   "outputs": [
    {
     "data": {
      "text/plain": [
       "[<matplotlib.lines.Line2D at 0x7f2b15669940>]"
      ]
     },
     "execution_count": 14,
     "metadata": {},
     "output_type": "execute_result"
    },
    {
     "data": {
      "image/png": "[encoded data removed]",
      "text/plain": [
       "<Figure size 432x288 with 1 Axes>"
      ]
     },
     "metadata": {
      "needs_background": "light"
     },
     "output_type": "display_data"
    }
   ],
   "source": [
    "plt.plot(aa.PrdId, aa.Unit_gross_amount)"
   ]
  },
  {
   "cell_type": "code",
   "execution_count": 15,
   "metadata": {},
   "outputs": [],
   "source": [
    "prob = pulp.LpProblem(\"maximize_production\", pulp.LpMaximize)"
   ]
  },
  {
   "cell_type": "code",
   "execution_count": 16,
   "metadata": {},
   "outputs": [],
   "source": [
    "decision_variable = []\n",
    "for rownum,row in aa.iterrows():\n",
    "    variable = str('X'+ str(rownum))\n",
    "    variable = pulp.LpVariable(str(variable), lowBound= 0, upBound= 1, cat=\"Integer\")\n",
    "    decision_variable.append(variable)"
   ]
  },
  {
   "cell_type": "code",
   "execution_count": 17,
   "metadata": {},
   "outputs": [
    {
     "name": "stdout",
     "output_type": "stream",
     "text": [
      "Total number of Decision Varaiable288\n",
      "Array with Decision Variable:[X0, X1, X2, X3, X4, X5, X6, X7, X8, X9, X10, X11, X12, X13, X14, X15, X16, X17, X18, X19, X20, X21, X22, X23, X24, X25, X26, X27, X28, X29, X30, X31, X32, X33, X34, X35, X36, X37, X38, X39, X40, X41, X42, X43, X44, X45, X46, X47, X48, X49, X50, X51, X52, X53, X54, X55, X56, X57, X58, X59, X60, X61, X62, X63, X64, X65, X66, X67, X68, X69, X70, X71, X72, X73, X74, X75, X76, X77, X78, X79, X80, X81, X82, X83, X84, X85, X86, X87, X88, X89, X90, X91, X92, X93, X94, X95, X96, X97, X98, X99, X100, X101, X102, X103, X104, X105, X106, X107, X108, X109, X110, X111, X112, X113, X114, X115, X116, X117, X118, X119, X120, X121, X122, X123, X124, X125, X126, X127, X128, X129, X130, X131, X132, X133, X134, X135, X136, X137, X138, X139, X140, X141, X142, X143, X144, X145, X146, X147, X148, X149, X150, X151, X152, X153, X154, X155, X156, X157, X158, X159, X160, X161, X162, X163, X164, X165, X166, X167, X168, X169, X170, X171, X172, X173, X174, X175, X176, X177, X178, X179, X180, X181, X182, X183, X184, X185, X186, X187, X188, X189, X190, X191, X192, X193, X194, X195, X196, X197, X198, X199, X200, X201, X202, X203, X204, X205, X206, X207, X208, X209, X210, X211, X212, X213, X214, X215, X216, X217, X218, X219, X220, X221, X222, X223, X224, X225, X226, X227, X228, X229, X230, X231, X232, X233, X234, X235, X236, X237, X238, X239, X240, X241, X242, X243, X244, X245, X246, X247, X248, X249, X250, X251, X252, X253, X254, X255, X256, X257, X258, X259, X260, X261, X262, X263, X264, X265, X266, X267, X268, X269, X270, X271, X272, X273, X274, X275, X276, X277, X278, X279, X280, X281, X282, X283, X284, X285, X286, X287]\n"
     ]
    }
   ],
   "source": [
    "print(\"Total number of Decision Varaiable\" + str(len(decision_variable)))\n",
    "print(\"Array with Decision Variable:\"+str(decision_variable))"
   ]
  },
  {
   "cell_type": "code",
   "execution_count": 18,
   "metadata": {},
   "outputs": [],
   "source": [
    "total_cost = \"\"\n",
    "\n",
    "for rownum, row in aa.iterrows():\n",
    "    for i, shedule in enumerate(decision_variable):\n",
    "        if rownum == i:\n",
    "            formula = row['BaseQty']*shedule\n",
    "            total_cost += formula\n",
    "            \n",
    "prob += total_cost"
   ]
  },
  {
   "cell_type": "code",
   "execution_count": 19,
   "metadata": {},
   "outputs": [
    {
     "name": "stdout",
     "output_type": "stream",
     "text": [
      "optimal Function :10.0*X0 + 193.0*X1 + 2751.0*X10 + 6174.0*X100 + 3203.0*X101 + 264.0*X102 + 58.0*X103 + 1086.0*X104 + 3146.0*X105 + 30258.0*X106 + 13545.0*X107 + 149.0*X108 + 19282.0*X109 + 6.0*X11 + 733.0*X110 + 784.0*X111 + 212.0*X112 + 93.0*X113 + 77.0*X114 + 156.0*X115 + 19073.0*X116 + 19489.0*X117 + 69787.0*X118 + 6.0*X119 + 10935.0*X12 + 6166.0*X120 + 1034.0*X121 + 183512.0*X122 + 28000.0*X123 + 1433.0*X124 + 938.0*X125 + 372.0*X126 + 352368.0*X127 + 7139.0*X128 + 14455.0*X129 + 14253.0*X13 + 4686.0*X130 + 33909.0*X131 + 6705.0*X132 + 28917.0*X133 + 53.0*X134 + 60199.0*X135 + 122880.0*X136 + 6928.0*X137 + 299.0*X138 + 13790.0*X139 + 13069.0*X14 + 1230.0*X140 + 4744.0*X141 + 8753.0*X142 + 7401.0*X143 + 2720.0*X144 + 1799074.0*X145 + 2680.0*X146 + 5878.0*X147 + 37890.0*X148 + 38326.0*X149 + 47.0*X15 + 80.0*X150 + 22181.0*X151 + 2610.0*X152 + 1815.0*X153 + 10011.0*X154 + 137626.0*X155 + 11214.0*X156 + 85094.0*X157 + 25698.0*X158 + 21768.0*X159 + 8862.0*X16 + 955.0*X160 + 705.0*X161 + 1096.0*X162 + 24324.0*X163 + 10712.0*X164 + 588.0*X165 + 2114.0*X166 + 32.0*X167 + 448.0*X168 + 220.0*X169 + 280.0*X17 + 165.0*X170 + 880.0*X171 + 5258.0*X172 + 2753.0*X173 + 18155.0*X174 + 9249.0*X175 + 9848.0*X176 + 1247.0*X177 + 1162.0*X178 + 1027.0*X179 + 1627.0*X18 + 56.0*X180 + 67.0*X181 + 2.0*X182 + 5825.0*X183 + 64364.0*X184 + 10538.0*X185 + 6240.0*X186 + 34155.0*X187 + 5913.0*X188 + 1101.0*X189 + 2702.0*X19 + 10406.0*X190 + 9396.0*X191 + 15861.0*X192 + 15018.0*X193 + 35764.0*X194 + 6342.0*X195 + 304.0*X196 + 49.0*X197 + 11439.0*X198 + 60440.0*X199 + 248.0*X2 + 18567.0*X20 + 9580.0*X200 + 12768.0*X201 + 2073.0*X202 + 456397.0*X203 + 478.0*X204 + 15876.0*X205 + 1173.0*X206 + 164327.0*X207 + 66293.0*X208 + 812123.0*X209 + 122.0*X21 + 140480.0*X210 + 6859.0*X211 + 22860.0*X212 + 402.0*X213 + 194.0*X214 + 352.0*X215 + 54277.0*X216 + 1656.0*X217 + 107246.0*X218 + 13788.0*X219 + 11.0*X22 + 1287.0*X220 + 223718.0*X221 + 9316.0*X222 + 168.0*X223 + 10991.0*X224 + 4626.0*X225 + 1930.0*X226 + 24.0*X227 + 27723.0*X228 + 3096.0*X229 + 10673.0*X23 + 60660.0*X230 + 41052.0*X231 + 14976.0*X232 + 6128.0*X233 + 136797.0*X234 + 5327.0*X235 + 2500.0*X236 + 5412.0*X237 + 462.0*X238 + 939.0*X239 + 1017.0*X24 + 102803.0*X240 + 25220.0*X241 + 11235.0*X242 + 60.0*X243 + 6.0*X244 + 132.0*X245 + 3655.0*X246 + 3960.0*X247 + 2957.0*X248 + 1488.0*X249 + 5966.0*X25 + 9585.0*X250 + 57659.0*X251 + 16016.0*X252 + 2987.0*X253 + 8624.0*X254 + 63312.0*X255 + 540.0*X256 + 14178.0*X257 + 18382.0*X258 + 1752.0*X259 + 33534.0*X26 + 1172.0*X260 + 1407.0*X261 + 1417.0*X262 + 3818.0*X263 + 2119.0*X264 + 86.0*X265 + 1012.0*X266 + 66696.0*X267 + 4053.0*X268 + 12182.0*X269 + 1488.0*X27 + 201596.0*X270 + 108.0*X271 + 740.0*X272 + 1191.0*X273 + 588708.0*X274 + 72.0*X275 + 6.0*X276 + 210.0*X277 + 1718.0*X278 + 617.0*X279 + 5294.0*X28 + 93492.0*X280 + 177.0*X281 + 1104.0*X282 + 19680.0*X283 + 2304.0*X284 + 2025.0*X285 + 9812.0*X286 + 5970.0*X287 + 1152.0*X29 + 9203.0*X3 + 1644.0*X30 + 7600.0*X31 + 20464.0*X32 + 5086.0*X33 + 420.0*X34 + 814300.0*X35 + 1093.0*X36 + 90.0*X37 + 685.0*X38 + 1149.0*X39 + 10.0*X4 + 4044.0*X40 + 2860.0*X41 + 2148.0*X42 + 12.0*X43 + 5886.0*X44 + 2172.0*X45 + 666.0*X46 + 540.0*X47 + 2775.0*X48 + 8111.0*X49 + 14288.0*X5 + 3.0*X50 + 217.0*X51 + 430.0*X52 + 455.0*X53 + 6.0*X54 + 285.0*X55 + 34948.0*X56 + 1368.0*X57 + 1146.0*X58 + 20348.0*X59 + 28.0*X6 + 4.0*X60 + 20.0*X61 + 2560.0*X62 + 768.0*X63 + 5898.0*X64 + 318360.0*X65 + 1580.0*X66 + 1560.0*X67 + 16932.0*X68 + 14505.0*X69 + X7 + 335.0*X70 + 1523.0*X71 + 94012.0*X72 + 6522.0*X73 + 2.0*X74 + 70000.0*X75 + 147238.0*X76 + 3625.0*X77 + 216.0*X78 + 1460.0*X79 + 36.0*X8 + 80.0*X80 + 591.0*X81 + 19069.0*X82 + 277.0*X83 + 43708.0*X84 + 5749.0*X85 + 1080886.0*X86 + 2760.0*X87 + 1894.0*X88 + 1602.0*X89 + 95.0*X9 + 54.0*X90 + 104.0*X91 + 40724.0*X92 + 851502.0*X93 + 25.0*X94 + 89.0*X95 + 109.0*X96 + 2485.0*X97 + 13159.0*X98 + 14666.0*X99\n"
     ]
    }
   ],
   "source": [
    "print(\"optimal Function :\" + str(total_cost))"
   ]
  },
  {
   "cell_type": "code",
   "execution_count": 27,
   "metadata": {},
   "outputs": [],
   "source": [
    "total_unit_gross_production = \"\"\n",
    "\n",
    "for rownum, row in aa.iterrows():\n",
    "    for i, shedule in enumerate(decision_variable):\n",
    "        if rownum == i:\n",
    "            formula = row[\"Unit_gross_amount\"]*shedule\n",
    "            total_unit_gross_production += formula\n",
    "            \n",
    "prob += (total_unit_gross_production == 100)"
   ]
  },
  {
   "cell_type": "code",
   "execution_count": 57,
   "metadata": {},
   "outputs": [],
   "source": [
    "# print(prob)\n",
    "#prob.solve()"
   ]
  },
  {
   "cell_type": "code",
   "execution_count": 28,
   "metadata": {},
   "outputs": [],
   "source": [
    "prob.writeLP(\"maximize_production.lp\")"
   ]
  },
  {
   "cell_type": "code",
   "execution_count": null,
   "metadata": {},
   "outputs": [],
   "source": [
    "optimization_result = prob.solve()\n",
    "\n",
    "assert optimization_result == pulp.LpStatusOptimal\n",
    "print(\"status\", LpStatus[prob.status])\n",
    "print(\"optimal Solution of the problem :\", value(prob.objective))\n",
    "print(\"individual decision variable :\")\n",
    "for v in prob.variables():\n",
    "    print(v.name ,\"m\", v.varValues)"
   ]
  },
  {
   "cell_type": "code",
   "execution_count": 23,
   "metadata": {},
   "outputs": [
    {
     "name": "stdout",
     "output_type": "stream",
     "text": [
      "status Not Solved\n"
     ]
    }
   ],
   "source": [
    "print(\"status\", LpStatus[prob.status])"
   ]
  },
  {
   "cell_type": "code",
   "execution_count": 24,
   "metadata": {},
   "outputs": [
    {
     "name": "stdout",
     "output_type": "stream",
     "text": [
      "optimal Solution of the problem : None\n"
     ]
    }
   ],
   "source": [
    "print(\"optimal Solution of the problem :\", value(prob.objective))"
   ]
  },
  {
   "cell_type": "code",
   "execution_count": 25,
   "metadata": {},
   "outputs": [
    {
     "ename": "KeyboardInterrupt",
     "evalue": "",
     "output_type": "error",
     "traceback": [
      "\u001b[0;31m---------------------------------------------------------------------------\u001b[0m",
      "\u001b[0;31mKeyboardInterrupt\u001b[0m                         Traceback (most recent call last)",
      "\u001b[0;32m<ipython-input-25-5e6f64ff2c29>\u001b[0m in \u001b[0;36m<module>\u001b[0;34m\u001b[0m\n\u001b[0;32m----> 1\u001b[0;31m \u001b[0moptimization_result\u001b[0m \u001b[0;34m=\u001b[0m \u001b[0mprob\u001b[0m\u001b[0;34m.\u001b[0m\u001b[0msolve\u001b[0m\u001b[0;34m(\u001b[0m\u001b[0;34m)\u001b[0m\u001b[0;34m\u001b[0m\u001b[0;34m\u001b[0m\u001b[0m\n\u001b[0m",
      "\u001b[0;32m~/anaconda3/lib/python3.6/site-packages/pulp/pulp.py\u001b[0m in \u001b[0;36msolve\u001b[0;34m(self, solver, **kwargs)\u001b[0m\n\u001b[1;32m   1669\u001b[0m         \u001b[0;31m#time it\u001b[0m\u001b[0;34m\u001b[0m\u001b[0;34m\u001b[0m\u001b[0;34m\u001b[0m\u001b[0m\n\u001b[1;32m   1670\u001b[0m         \u001b[0mself\u001b[0m\u001b[0;34m.\u001b[0m\u001b[0msolutionTime\u001b[0m \u001b[0;34m=\u001b[0m \u001b[0;34m-\u001b[0m\u001b[0mclock\u001b[0m\u001b[0;34m(\u001b[0m\u001b[0;34m)\u001b[0m\u001b[0;34m\u001b[0m\u001b[0;34m\u001b[0m\u001b[0m\n\u001b[0;32m-> 1671\u001b[0;31m         \u001b[0mstatus\u001b[0m \u001b[0;34m=\u001b[0m \u001b[0msolver\u001b[0m\u001b[0;34m.\u001b[0m\u001b[0mactualSolve\u001b[0m\u001b[0;34m(\u001b[0m\u001b[0mself\u001b[0m\u001b[0;34m,\u001b[0m \u001b[0;34m**\u001b[0m\u001b[0mkwargs\u001b[0m\u001b[0;34m)\u001b[0m\u001b[0;34m\u001b[0m\u001b[0;34m\u001b[0m\u001b[0m\n\u001b[0m\u001b[1;32m   1672\u001b[0m         \u001b[0mself\u001b[0m\u001b[0;34m.\u001b[0m\u001b[0msolutionTime\u001b[0m \u001b[0;34m+=\u001b[0m \u001b[0mclock\u001b[0m\u001b[0;34m(\u001b[0m\u001b[0;34m)\u001b[0m\u001b[0;34m\u001b[0m\u001b[0;34m\u001b[0m\u001b[0m\n\u001b[1;32m   1673\u001b[0m         \u001b[0mself\u001b[0m\u001b[0;34m.\u001b[0m\u001b[0mrestoreObjective\u001b[0m\u001b[0;34m(\u001b[0m\u001b[0mwasNone\u001b[0m\u001b[0;34m,\u001b[0m \u001b[0mdummyVar\u001b[0m\u001b[0;34m)\u001b[0m\u001b[0;34m\u001b[0m\u001b[0;34m\u001b[0m\u001b[0m\n",
      "\u001b[0;32m~/anaconda3/lib/python3.6/site-packages/pulp/solvers.py\u001b[0m in \u001b[0;36mactualSolve\u001b[0;34m(self, lp, **kwargs)\u001b[0m\n\u001b[1;32m   1360\u001b[0m     \u001b[0;32mdef\u001b[0m \u001b[0mactualSolve\u001b[0m\u001b[0;34m(\u001b[0m\u001b[0mself\u001b[0m\u001b[0;34m,\u001b[0m \u001b[0mlp\u001b[0m\u001b[0;34m,\u001b[0m \u001b[0;34m**\u001b[0m\u001b[0mkwargs\u001b[0m\u001b[0;34m)\u001b[0m\u001b[0;34m:\u001b[0m\u001b[0;34m\u001b[0m\u001b[0;34m\u001b[0m\u001b[0m\n\u001b[1;32m   1361\u001b[0m         \u001b[0;34m\"\"\"Solve a well formulated lp problem\"\"\"\u001b[0m\u001b[0;34m\u001b[0m\u001b[0;34m\u001b[0m\u001b[0m\n\u001b[0;32m-> 1362\u001b[0;31m         \u001b[0;32mreturn\u001b[0m \u001b[0mself\u001b[0m\u001b[0;34m.\u001b[0m\u001b[0msolve_CBC\u001b[0m\u001b[0;34m(\u001b[0m\u001b[0mlp\u001b[0m\u001b[0;34m,\u001b[0m \u001b[0;34m**\u001b[0m\u001b[0mkwargs\u001b[0m\u001b[0;34m)\u001b[0m\u001b[0;34m\u001b[0m\u001b[0;34m\u001b[0m\u001b[0m\n\u001b[0m\u001b[1;32m   1363\u001b[0m \u001b[0;34m\u001b[0m\u001b[0m\n\u001b[1;32m   1364\u001b[0m     \u001b[0;32mdef\u001b[0m \u001b[0mavailable\u001b[0m\u001b[0;34m(\u001b[0m\u001b[0mself\u001b[0m\u001b[0;34m)\u001b[0m\u001b[0;34m:\u001b[0m\u001b[0;34m\u001b[0m\u001b[0;34m\u001b[0m\u001b[0m\n",
      "\u001b[0;32m~/anaconda3/lib/python3.6/site-packages/pulp/solvers.py\u001b[0m in \u001b[0;36msolve_CBC\u001b[0;34m(self, lp, use_mps)\u001b[0m\n\u001b[1;32m   1421\u001b[0m         \u001b[0margs\u001b[0m\u001b[0;34m.\u001b[0m\u001b[0mextend\u001b[0m\u001b[0;34m(\u001b[0m\u001b[0mcmds\u001b[0m\u001b[0;34m[\u001b[0m\u001b[0;36m1\u001b[0m\u001b[0;34m:\u001b[0m\u001b[0;34m]\u001b[0m\u001b[0;34m.\u001b[0m\u001b[0msplit\u001b[0m\u001b[0;34m(\u001b[0m\u001b[0;34m)\u001b[0m\u001b[0;34m)\u001b[0m\u001b[0;34m\u001b[0m\u001b[0;34m\u001b[0m\u001b[0m\n\u001b[1;32m   1422\u001b[0m         \u001b[0mcbc\u001b[0m \u001b[0;34m=\u001b[0m \u001b[0msubprocess\u001b[0m\u001b[0;34m.\u001b[0m\u001b[0mPopen\u001b[0m\u001b[0;34m(\u001b[0m\u001b[0margs\u001b[0m\u001b[0;34m,\u001b[0m \u001b[0mstdout\u001b[0m \u001b[0;34m=\u001b[0m \u001b[0mpipe\u001b[0m\u001b[0;34m,\u001b[0m \u001b[0mstderr\u001b[0m \u001b[0;34m=\u001b[0m \u001b[0mpipe\u001b[0m\u001b[0;34m)\u001b[0m\u001b[0;34m\u001b[0m\u001b[0;34m\u001b[0m\u001b[0m\n\u001b[0;32m-> 1423\u001b[0;31m         \u001b[0;32mif\u001b[0m \u001b[0mcbc\u001b[0m\u001b[0;34m.\u001b[0m\u001b[0mwait\u001b[0m\u001b[0;34m(\u001b[0m\u001b[0;34m)\u001b[0m \u001b[0;34m!=\u001b[0m \u001b[0;36m0\u001b[0m\u001b[0;34m:\u001b[0m\u001b[0;34m\u001b[0m\u001b[0;34m\u001b[0m\u001b[0m\n\u001b[0m\u001b[1;32m   1424\u001b[0m             raise PulpSolverError(\"Pulp: Error while trying to execute \" +  \\\n\u001b[1;32m   1425\u001b[0m                                     self.path)\n",
      "\u001b[0;32m~/anaconda3/lib/python3.6/subprocess.py\u001b[0m in \u001b[0;36mwait\u001b[0;34m(self, timeout, endtime)\u001b[0m\n\u001b[1;32m   1455\u001b[0m                         \u001b[0;32mif\u001b[0m \u001b[0mself\u001b[0m\u001b[0;34m.\u001b[0m\u001b[0mreturncode\u001b[0m \u001b[0;32mis\u001b[0m \u001b[0;32mnot\u001b[0m \u001b[0;32mNone\u001b[0m\u001b[0;34m:\u001b[0m\u001b[0;34m\u001b[0m\u001b[0;34m\u001b[0m\u001b[0m\n\u001b[1;32m   1456\u001b[0m                             \u001b[0;32mbreak\u001b[0m  \u001b[0;31m# Another thread waited.\u001b[0m\u001b[0;34m\u001b[0m\u001b[0;34m\u001b[0m\u001b[0m\n\u001b[0;32m-> 1457\u001b[0;31m                         \u001b[0;34m(\u001b[0m\u001b[0mpid\u001b[0m\u001b[0;34m,\u001b[0m \u001b[0msts\u001b[0m\u001b[0;34m)\u001b[0m \u001b[0;34m=\u001b[0m \u001b[0mself\u001b[0m\u001b[0;34m.\u001b[0m\u001b[0m_try_wait\u001b[0m\u001b[0;34m(\u001b[0m\u001b[0;36m0\u001b[0m\u001b[0;34m)\u001b[0m\u001b[0;34m\u001b[0m\u001b[0;34m\u001b[0m\u001b[0m\n\u001b[0m\u001b[1;32m   1458\u001b[0m                         \u001b[0;31m# Check the pid and loop as waitpid has been known to\u001b[0m\u001b[0;34m\u001b[0m\u001b[0;34m\u001b[0m\u001b[0;34m\u001b[0m\u001b[0m\n\u001b[1;32m   1459\u001b[0m                         \u001b[0;31m# return 0 even without WNOHANG in odd situations.\u001b[0m\u001b[0;34m\u001b[0m\u001b[0;34m\u001b[0m\u001b[0;34m\u001b[0m\u001b[0m\n",
      "\u001b[0;32m~/anaconda3/lib/python3.6/subprocess.py\u001b[0m in \u001b[0;36m_try_wait\u001b[0;34m(self, wait_flags)\u001b[0m\n\u001b[1;32m   1402\u001b[0m             \u001b[0;34m\"\"\"All callers to this function MUST hold self._waitpid_lock.\"\"\"\u001b[0m\u001b[0;34m\u001b[0m\u001b[0;34m\u001b[0m\u001b[0m\n\u001b[1;32m   1403\u001b[0m             \u001b[0;32mtry\u001b[0m\u001b[0;34m:\u001b[0m\u001b[0;34m\u001b[0m\u001b[0;34m\u001b[0m\u001b[0m\n\u001b[0;32m-> 1404\u001b[0;31m                 \u001b[0;34m(\u001b[0m\u001b[0mpid\u001b[0m\u001b[0;34m,\u001b[0m \u001b[0msts\u001b[0m\u001b[0;34m)\u001b[0m \u001b[0;34m=\u001b[0m \u001b[0mos\u001b[0m\u001b[0;34m.\u001b[0m\u001b[0mwaitpid\u001b[0m\u001b[0;34m(\u001b[0m\u001b[0mself\u001b[0m\u001b[0;34m.\u001b[0m\u001b[0mpid\u001b[0m\u001b[0;34m,\u001b[0m \u001b[0mwait_flags\u001b[0m\u001b[0;34m)\u001b[0m\u001b[0;34m\u001b[0m\u001b[0;34m\u001b[0m\u001b[0m\n\u001b[0m\u001b[1;32m   1405\u001b[0m             \u001b[0;32mexcept\u001b[0m \u001b[0mChildProcessError\u001b[0m\u001b[0;34m:\u001b[0m\u001b[0;34m\u001b[0m\u001b[0;34m\u001b[0m\u001b[0m\n\u001b[1;32m   1406\u001b[0m                 \u001b[0;31m# This happens if SIGCLD is set to be ignored or waiting\u001b[0m\u001b[0;34m\u001b[0m\u001b[0;34m\u001b[0m\u001b[0;34m\u001b[0m\u001b[0m\n",
      "\u001b[0;31mKeyboardInterrupt\u001b[0m: "
     ]
    }
   ],
   "source": [
    "optimization_result = prob.solve()"
   ]
  },
  {
   "cell_type": "code",
   "execution_count": 26,
   "metadata": {},
   "outputs": [
    {
     "ename": "NameError",
     "evalue": "name 'optimization_result' is not defined",
     "output_type": "error",
     "traceback": [
      "\u001b[0;31m---------------------------------------------------------------------------\u001b[0m",
      "\u001b[0;31mNameError\u001b[0m                                 Traceback (most recent call last)",
      "\u001b[0;32m<ipython-input-26-7eee8ecc1853>\u001b[0m in \u001b[0;36m<module>\u001b[0;34m\u001b[0m\n\u001b[0;32m----> 1\u001b[0;31m \u001b[0;32massert\u001b[0m \u001b[0moptimization_result\u001b[0m \u001b[0;34m==\u001b[0m \u001b[0mpulp\u001b[0m\u001b[0;34m.\u001b[0m\u001b[0mLpStatusOptimal\u001b[0m\u001b[0;34m\u001b[0m\u001b[0;34m\u001b[0m\u001b[0m\n\u001b[0m",
      "\u001b[0;31mNameError\u001b[0m: name 'optimization_result' is not defined"
     ]
    }
   ],
   "source": [
    "assert optimization_result == pulp.LpStatusOptimal"
   ]
  },
  {
   "cell_type": "code",
   "execution_count": 31,
   "metadata": {},
   "outputs": [],
   "source": [
    "aa['Product_type']=np.where(aa['Unit_gross_amount']<=150,\"Low_Price_Prd\",np.where(aa['Unit_gross_amount']<= 300,\"Medium_Price_Prd\",\"High_Price_Prd\"))"
   ]
  },
  {
   "cell_type": "code",
   "execution_count": 32,
   "metadata": {},
   "outputs": [],
   "source": [
    "aa['Product_class']=np.where(aa['Product_type']=='Low_Price_Prd',\"economy\",'premium')"
   ]
  },
  {
   "cell_type": "code",
   "execution_count": 33,
   "metadata": {},
   "outputs": [
    {
     "data": {
      "text/html": [
       "<div>\n",
       "<style scoped>\n",
       "    .dataframe tbody tr th:only-of-type {\n",
       "        vertical-align: middle;\n",
       "    }\n",
       "\n",
       "    .dataframe tbody tr th {\n",
       "        vertical-align: top;\n",
       "    }\n",
       "\n",
       "    .dataframe thead th {\n",
       "        text-align: right;\n",
       "    }\n",
       "</style>\n",
       "<table border=\"1\" class=\"dataframe\">\n",
       "  <thead>\n",
       "    <tr style=\"text-align: right;\">\n",
       "      <th></th>\n",
       "      <th>PrdId</th>\n",
       "      <th>BaseQty</th>\n",
       "      <th>PrdGrossAmount</th>\n",
       "      <th>Budget</th>\n",
       "      <th>Unit_gross_amount</th>\n",
       "      <th>Product_type</th>\n",
       "      <th>Product_class</th>\n",
       "    </tr>\n",
       "  </thead>\n",
       "  <tbody>\n",
       "    <tr>\n",
       "      <th>0</th>\n",
       "      <td>21</td>\n",
       "      <td>10</td>\n",
       "      <td>9.876543e+02</td>\n",
       "      <td>13922</td>\n",
       "      <td>98.765432</td>\n",
       "      <td>Low_Price_Prd</td>\n",
       "      <td>economy</td>\n",
       "    </tr>\n",
       "    <tr>\n",
       "      <th>1</th>\n",
       "      <td>27</td>\n",
       "      <td>193</td>\n",
       "      <td>1.036728e+06</td>\n",
       "      <td>310200</td>\n",
       "      <td>5371.650000</td>\n",
       "      <td>High_Price_Prd</td>\n",
       "      <td>premium</td>\n",
       "    </tr>\n",
       "    <tr>\n",
       "      <th>2</th>\n",
       "      <td>92</td>\n",
       "      <td>248</td>\n",
       "      <td>8.336392e+03</td>\n",
       "      <td>198679</td>\n",
       "      <td>33.614482</td>\n",
       "      <td>Low_Price_Prd</td>\n",
       "      <td>economy</td>\n",
       "    </tr>\n",
       "    <tr>\n",
       "      <th>3</th>\n",
       "      <td>93</td>\n",
       "      <td>9203</td>\n",
       "      <td>9.568327e+05</td>\n",
       "      <td>24010128</td>\n",
       "      <td>103.969649</td>\n",
       "      <td>Low_Price_Prd</td>\n",
       "      <td>economy</td>\n",
       "    </tr>\n",
       "    <tr>\n",
       "      <th>4</th>\n",
       "      <td>95</td>\n",
       "      <td>10</td>\n",
       "      <td>3.494976e+02</td>\n",
       "      <td>13532</td>\n",
       "      <td>34.949760</td>\n",
       "      <td>Low_Price_Prd</td>\n",
       "      <td>economy</td>\n",
       "    </tr>\n",
       "  </tbody>\n",
       "</table>\n",
       "</div>"
      ],
      "text/plain": [
       "   PrdId  BaseQty  PrdGrossAmount    Budget  Unit_gross_amount  \\\n",
       "0     21       10    9.876543e+02     13922          98.765432   \n",
       "1     27      193    1.036728e+06    310200        5371.650000   \n",
       "2     92      248    8.336392e+03    198679          33.614482   \n",
       "3     93     9203    9.568327e+05  24010128         103.969649   \n",
       "4     95       10    3.494976e+02     13532          34.949760   \n",
       "\n",
       "     Product_type Product_class  \n",
       "0   Low_Price_Prd       economy  \n",
       "1  High_Price_Prd       premium  \n",
       "2   Low_Price_Prd       economy  \n",
       "3   Low_Price_Prd       economy  \n",
       "4   Low_Price_Prd       economy  "
      ]
     },
     "execution_count": 33,
     "metadata": {},
     "output_type": "execute_result"
    }
   ],
   "source": [
    "aa.head()"
   ]
  },
  {
   "cell_type": "code",
   "execution_count": 34,
   "metadata": {},
   "outputs": [
    {
     "data": {
      "text/plain": [
       "<BarContainer object of 288 artists>"
      ]
     },
     "execution_count": 34,
     "metadata": {},
     "output_type": "execute_result"
    },
    {
     "data": {
      "image/png": "[encoded data removed]",
      "text/plain": [
       "<Figure size 432x288 with 1 Axes>"
      ]
     },
     "metadata": {
      "needs_background": "light"
     },
     "output_type": "display_data"
    }
   ],
   "source": [
    "plt.bar(aa.Product_type, aa.PrdGrossAmount)"
   ]
  },
  {
   "cell_type": "code",
   "execution_count": 35,
   "metadata": {},
   "outputs": [
    {
     "data": {
      "text/plain": [
       "<matplotlib.axes._subplots.AxesSubplot at 0x7f2b1525e908>"
      ]
     },
     "execution_count": 35,
     "metadata": {},
     "output_type": "execute_result"
    },
    {
     "data": {
      "image/png": "[encoded data removed]",
      "text/plain": [
       "<Figure size 432x288 with 1 Axes>"
      ]
     },
     "metadata": {
      "needs_background": "light"
     },
     "output_type": "display_data"
    }
   ],
   "source": [
    "aa.boxplot(column= \"Unit_gross_amount\")"
   ]
  },
  {
   "cell_type": "code",
   "execution_count": 36,
   "metadata": {},
   "outputs": [
    {
     "data": {
      "text/plain": [
       "Index(['PrdId', 'BaseQty', 'PrdGrossAmount', 'Budget', 'Unit_gross_amount',\n",
       "       'Product_type', 'Product_class'],\n",
       "      dtype='object')"
      ]
     },
     "execution_count": 36,
     "metadata": {},
     "output_type": "execute_result"
    }
   ],
   "source": [
    "aa.columns"
   ]
  },
  {
   "cell_type": "code",
   "execution_count": 37,
   "metadata": {},
   "outputs": [
    {
     "data": {
      "text/plain": [
       "352.68493178957965"
      ]
     },
     "execution_count": 37,
     "metadata": {},
     "output_type": "execute_result"
    }
   ],
   "source": [
    "np.quantile(aa.Unit_gross_amount, .99)"
   ]
  },
  {
   "cell_type": "code",
   "execution_count": 38,
   "metadata": {},
   "outputs": [],
   "source": [
    "aa = aa.drop(aa.index[1])"
   ]
  },
  {
   "cell_type": "code",
   "execution_count": 39,
   "metadata": {},
   "outputs": [],
   "source": [
    "# Instantiate our problem class\n",
    "model = pulp.LpProblem(\"Cost minimising blending problem\", pulp.LpMinimize)"
   ]
  },
  {
   "cell_type": "code",
   "execution_count": 40,
   "metadata": {},
   "outputs": [],
   "source": [
    "# Construct our decision variable lists\n",
    "Product_class = ['economy', 'premium']\n",
    "Product_type = ['Low_Price_Prd', 'Medium_Price_Prd', 'High_Price_Prd']"
   ]
  },
  {
   "cell_type": "code",
   "execution_count": 41,
   "metadata": {},
   "outputs": [],
   "source": [
    "ing_weight = pulp.LpVariable.dicts(\"Price Rs\",\n",
    "                                     ((i, j) for i in Product_class for j in Product_type),\n",
    "                                     lowBound=0,\n",
    "                                     cat='Continuous')"
   ]
  },
  {
   "cell_type": "code",
   "execution_count": 42,
   "metadata": {},
   "outputs": [
    {
     "data": {
      "text/plain": [
       "{('economy', 'Low_Price_Prd'): Price_Rs_('economy',_'Low_Price_Prd'),\n",
       " ('economy', 'Medium_Price_Prd'): Price_Rs_('economy',_'Medium_Price_Prd'),\n",
       " ('economy', 'High_Price_Prd'): Price_Rs_('economy',_'High_Price_Prd'),\n",
       " ('premium', 'Low_Price_Prd'): Price_Rs_('premium',_'Low_Price_Prd'),\n",
       " ('premium', 'Medium_Price_Prd'): Price_Rs_('premium',_'Medium_Price_Prd'),\n",
       " ('premium', 'High_Price_Prd'): Price_Rs_('premium',_'High_Price_Prd')}"
      ]
     },
     "execution_count": 42,
     "metadata": {},
     "output_type": "execute_result"
    }
   ],
   "source": [
    "ing_weight"
   ]
  },
  {
   "cell_type": "code",
   "execution_count": 43,
   "metadata": {},
   "outputs": [],
   "source": [
    "\n",
    "# Objective Function\n",
    "model += (\n",
    "    pulp.lpSum([\n",
    "        4.32 * ing_weight[(i, 'Low_Price_Prd')]\n",
    "        + 2.46 * ing_weight[(i, 'Medium_Price_Prd')]\n",
    "        + 1.86 * ing_weight[(i, 'High_Price_Prd')]\n",
    "        for i in Product_class])\n",
    ")"
   ]
  },
  {
   "cell_type": "code",
   "execution_count": 44,
   "metadata": {},
   "outputs": [],
   "source": [
    "#Constraints\n",
    "# 350 economy and 500 premium product at 100 Rs\n",
    "model += pulp.lpSum([ing_weight['economy', j] for j in Product_type]) == 350 * 100\n",
    "model += pulp.lpSum([ing_weight['premium', j] for j in Product_type]) == 500 * 300\n",
    "\n",
    "# Economy has >= 40% Low_Price_Prd, premium >= 60% Medium_Price_Prd\n",
    "model += ing_weight['economy', 'Low_Price_Prd'] >= (\n",
    "    0.4 * pulp.lpSum([ing_weight['economy', j] for j in Product_type]))\n",
    "\n",
    "model += ing_weight['premium', 'Medium_Price_Prd'] >= (\n",
    "    0.6 * pulp.lpSum([ing_weight['premium', j] for j in Product_type]))\n",
    "\n",
    "model += ing_weight['premium', 'High_Price_Prd'] <= (\n",
    "    0.25 * pulp.lpSum([ing_weight['premium', j] for j in Product_type]))\n",
    "\n",
    "# We have at most 100 Rs of Low_Price_Prd, 200 Rs of Medium_Price_Prd and 300 of High_Price_Prd available\n",
    "model += pulp.lpSum([ing_weight[i, 'Low_Price_Prd'] for i in Product_class]) <= 100\n",
    "model += pulp.lpSum([ing_weight[i, 'Medium_Price_Prd'] for i in Product_class]) <= 200\n",
    "model += pulp.lpSum([ing_weight[i, 'High_Price_Prd'] for i in Product_class]) <= 300\n",
    "\n",
    "# We have at least 23 kg of pork to use up\n",
    "#model += pulp.lpSum([ing_weight[i, 'High_Price_Prd'] for i in Product_class]) >= 300"
   ]
  },
  {
   "cell_type": "code",
   "execution_count": 45,
   "metadata": {},
   "outputs": [
    {
     "data": {
      "text/plain": [
       "'Infeasible'"
      ]
     },
     "execution_count": 45,
     "metadata": {},
     "output_type": "execute_result"
    }
   ],
   "source": [
    "# Solve our problem\n",
    "model.solve()\n",
    "pulp.LpStatus[model.status]"
   ]
  },
  {
   "cell_type": "code",
   "execution_count": 46,
   "metadata": {},
   "outputs": [],
   "source": [
    "for var in ing_weight:\n",
    "    var_value = ing_weight[var].varValue"
   ]
  },
  {
   "cell_type": "code",
   "execution_count": 47,
   "metadata": {},
   "outputs": [
    {
     "name": "stdout",
     "output_type": "stream",
     "text": [
      "The cost of High_Price_Prd in premium Class is 37500.0 Rs\n"
     ]
    }
   ],
   "source": [
    "print(\"The cost of {0} in {1} Class is {2} Rs\".format(var[1], var[0], var_value))"
   ]
  },
  {
   "cell_type": "code",
   "execution_count": 49,
   "metadata": {},
   "outputs": [],
   "source": [
    "total_cost = pulp.value(model.objective)"
   ]
  },
  {
   "cell_type": "code",
   "execution_count": 50,
   "metadata": {},
   "outputs": [
    {
     "name": "stdout",
     "output_type": "stream",
     "text": [
      "The total cost is Rs555378.0 for 350 economy Product and 500 premium Product\n"
     ]
    }
   ],
   "source": [
    "print(\"The total cost is Rs{} for 350 economy Product and 500 premium Product\".format(round(total_cost, 2)))"
   ]
  },
  {
   "cell_type": "code",
   "execution_count": 51,
   "metadata": {},
   "outputs": [
    {
     "data": {
      "text/plain": [
       "109131768.95381992"
      ]
     },
     "execution_count": 51,
     "metadata": {},
     "output_type": "execute_result"
    }
   ],
   "source": [
    "sum(aa.PrdGrossAmount)"
   ]
  },
  {
   "cell_type": "code",
   "execution_count": 52,
   "metadata": {},
   "outputs": [
    {
     "data": {
      "text/plain": [
       "Low_Price_Prd       267\n",
       "Medium_Price_Prd     14\n",
       "High_Price_Prd        6\n",
       "Name: Product_type, dtype: int64"
      ]
     },
     "execution_count": 52,
     "metadata": {},
     "output_type": "execute_result"
    }
   ],
   "source": [
    "aa.Product_type.value_counts()"
   ]
  },
  {
   "cell_type": "code",
   "execution_count": 53,
   "metadata": {},
   "outputs": [
    {
     "data": {
      "text/html": [
       "<div>\n",
       "<style scoped>\n",
       "    .dataframe tbody tr th:only-of-type {\n",
       "        vertical-align: middle;\n",
       "    }\n",
       "\n",
       "    .dataframe tbody tr th {\n",
       "        vertical-align: top;\n",
       "    }\n",
       "\n",
       "    .dataframe thead th {\n",
       "        text-align: right;\n",
       "    }\n",
       "</style>\n",
       "<table border=\"1\" class=\"dataframe\">\n",
       "  <thead>\n",
       "    <tr style=\"text-align: right;\">\n",
       "      <th></th>\n",
       "      <th>PrdId</th>\n",
       "      <th>BaseQty</th>\n",
       "      <th>PrdGrossAmount</th>\n",
       "      <th>Budget</th>\n",
       "      <th>Unit_gross_amount</th>\n",
       "      <th>Product_type</th>\n",
       "      <th>Product_class</th>\n",
       "    </tr>\n",
       "  </thead>\n",
       "  <tbody>\n",
       "    <tr>\n",
       "      <th>41</th>\n",
       "      <td>772</td>\n",
       "      <td>2860</td>\n",
       "      <td>966025.81180</td>\n",
       "      <td>652764</td>\n",
       "      <td>337.771263</td>\n",
       "      <td>High_Price_Prd</td>\n",
       "      <td>premium</td>\n",
       "    </tr>\n",
       "    <tr>\n",
       "      <th>43</th>\n",
       "      <td>781</td>\n",
       "      <td>12</td>\n",
       "      <td>9025.36716</td>\n",
       "      <td>5760</td>\n",
       "      <td>752.113930</td>\n",
       "      <td>High_Price_Prd</td>\n",
       "      <td>premium</td>\n",
       "    </tr>\n",
       "    <tr>\n",
       "      <th>134</th>\n",
       "      <td>1085</td>\n",
       "      <td>53</td>\n",
       "      <td>20662.76813</td>\n",
       "      <td>232733</td>\n",
       "      <td>389.863550</td>\n",
       "      <td>High_Price_Prd</td>\n",
       "      <td>premium</td>\n",
       "    </tr>\n",
       "    <tr>\n",
       "      <th>180</th>\n",
       "      <td>1194</td>\n",
       "      <td>56</td>\n",
       "      <td>17777.77776</td>\n",
       "      <td>13446</td>\n",
       "      <td>317.460317</td>\n",
       "      <td>High_Price_Prd</td>\n",
       "      <td>premium</td>\n",
       "    </tr>\n",
       "    <tr>\n",
       "      <th>206</th>\n",
       "      <td>1240</td>\n",
       "      <td>1173</td>\n",
       "      <td>403084.11189</td>\n",
       "      <td>80844</td>\n",
       "      <td>343.635219</td>\n",
       "      <td>High_Price_Prd</td>\n",
       "      <td>premium</td>\n",
       "    </tr>\n",
       "    <tr>\n",
       "      <th>266</th>\n",
       "      <td>1377</td>\n",
       "      <td>1012</td>\n",
       "      <td>351295.06021</td>\n",
       "      <td>404201</td>\n",
       "      <td>347.129506</td>\n",
       "      <td>High_Price_Prd</td>\n",
       "      <td>premium</td>\n",
       "    </tr>\n",
       "  </tbody>\n",
       "</table>\n",
       "</div>"
      ],
      "text/plain": [
       "     PrdId  BaseQty  PrdGrossAmount  Budget  Unit_gross_amount  \\\n",
       "41     772     2860    966025.81180  652764         337.771263   \n",
       "43     781       12      9025.36716    5760         752.113930   \n",
       "134   1085       53     20662.76813  232733         389.863550   \n",
       "180   1194       56     17777.77776   13446         317.460317   \n",
       "206   1240     1173    403084.11189   80844         343.635219   \n",
       "266   1377     1012    351295.06021  404201         347.129506   \n",
       "\n",
       "       Product_type Product_class  \n",
       "41   High_Price_Prd       premium  \n",
       "43   High_Price_Prd       premium  \n",
       "134  High_Price_Prd       premium  \n",
       "180  High_Price_Prd       premium  \n",
       "206  High_Price_Prd       premium  \n",
       "266  High_Price_Prd       premium  "
      ]
     },
     "execution_count": 53,
     "metadata": {},
     "output_type": "execute_result"
    }
   ],
   "source": [
    "aa[aa['Product_type']== 'High_Price_Prd'] "
   ]
  },
  {
   "cell_type": "code",
   "execution_count": 54,
   "metadata": {},
   "outputs": [
    {
     "data": {
      "text/html": [
       "<div>\n",
       "<style scoped>\n",
       "    .dataframe tbody tr th:only-of-type {\n",
       "        vertical-align: middle;\n",
       "    }\n",
       "\n",
       "    .dataframe tbody tr th {\n",
       "        vertical-align: top;\n",
       "    }\n",
       "\n",
       "    .dataframe thead th {\n",
       "        text-align: right;\n",
       "    }\n",
       "</style>\n",
       "<table border=\"1\" class=\"dataframe\">\n",
       "  <thead>\n",
       "    <tr style=\"text-align: right;\">\n",
       "      <th></th>\n",
       "      <th>PrdId</th>\n",
       "      <th>BaseQty</th>\n",
       "      <th>PrdGrossAmount</th>\n",
       "      <th>Budget</th>\n",
       "      <th>Unit_gross_amount</th>\n",
       "      <th>Product_type</th>\n",
       "      <th>Product_class</th>\n",
       "    </tr>\n",
       "  </thead>\n",
       "  <tbody>\n",
       "    <tr>\n",
       "      <th>21</th>\n",
       "      <td>287</td>\n",
       "      <td>122</td>\n",
       "      <td>1.911170e+04</td>\n",
       "      <td>84770</td>\n",
       "      <td>156.653316</td>\n",
       "      <td>Medium_Price_Prd</td>\n",
       "      <td>premium</td>\n",
       "    </tr>\n",
       "    <tr>\n",
       "      <th>26</th>\n",
       "      <td>401</td>\n",
       "      <td>33534</td>\n",
       "      <td>9.710314e+06</td>\n",
       "      <td>154404142</td>\n",
       "      <td>289.566229</td>\n",
       "      <td>Medium_Price_Prd</td>\n",
       "      <td>premium</td>\n",
       "    </tr>\n",
       "    <tr>\n",
       "      <th>28</th>\n",
       "      <td>522</td>\n",
       "      <td>5294</td>\n",
       "      <td>1.446432e+06</td>\n",
       "      <td>2944291</td>\n",
       "      <td>273.221024</td>\n",
       "      <td>Medium_Price_Prd</td>\n",
       "      <td>premium</td>\n",
       "    </tr>\n",
       "    <tr>\n",
       "      <th>44</th>\n",
       "      <td>794</td>\n",
       "      <td>5886</td>\n",
       "      <td>1.598420e+06</td>\n",
       "      <td>437315</td>\n",
       "      <td>271.562989</td>\n",
       "      <td>Medium_Price_Prd</td>\n",
       "      <td>premium</td>\n",
       "    </tr>\n",
       "    <tr>\n",
       "      <th>70</th>\n",
       "      <td>910</td>\n",
       "      <td>335</td>\n",
       "      <td>9.541611e+04</td>\n",
       "      <td>865465</td>\n",
       "      <td>284.824210</td>\n",
       "      <td>Medium_Price_Prd</td>\n",
       "      <td>premium</td>\n",
       "    </tr>\n",
       "    <tr>\n",
       "      <th>138</th>\n",
       "      <td>1090</td>\n",
       "      <td>299</td>\n",
       "      <td>5.315556e+04</td>\n",
       "      <td>1750863</td>\n",
       "      <td>177.777780</td>\n",
       "      <td>Medium_Price_Prd</td>\n",
       "      <td>premium</td>\n",
       "    </tr>\n",
       "    <tr>\n",
       "      <th>153</th>\n",
       "      <td>1154</td>\n",
       "      <td>1815</td>\n",
       "      <td>3.426549e+05</td>\n",
       "      <td>5507286</td>\n",
       "      <td>188.790560</td>\n",
       "      <td>Medium_Price_Prd</td>\n",
       "      <td>premium</td>\n",
       "    </tr>\n",
       "    <tr>\n",
       "      <th>160</th>\n",
       "      <td>1168</td>\n",
       "      <td>955</td>\n",
       "      <td>2.043621e+05</td>\n",
       "      <td>256980</td>\n",
       "      <td>213.991770</td>\n",
       "      <td>Medium_Price_Prd</td>\n",
       "      <td>premium</td>\n",
       "    </tr>\n",
       "    <tr>\n",
       "      <th>167</th>\n",
       "      <td>1180</td>\n",
       "      <td>32</td>\n",
       "      <td>5.775701e+03</td>\n",
       "      <td>105468</td>\n",
       "      <td>180.490655</td>\n",
       "      <td>Medium_Price_Prd</td>\n",
       "      <td>premium</td>\n",
       "    </tr>\n",
       "    <tr>\n",
       "      <th>181</th>\n",
       "      <td>1195</td>\n",
       "      <td>67</td>\n",
       "      <td>1.329365e+04</td>\n",
       "      <td>20641</td>\n",
       "      <td>198.412698</td>\n",
       "      <td>Medium_Price_Prd</td>\n",
       "      <td>premium</td>\n",
       "    </tr>\n",
       "    <tr>\n",
       "      <th>182</th>\n",
       "      <td>1196</td>\n",
       "      <td>2</td>\n",
       "      <td>5.952381e+02</td>\n",
       "      <td>1440</td>\n",
       "      <td>297.619050</td>\n",
       "      <td>Medium_Price_Prd</td>\n",
       "      <td>premium</td>\n",
       "    </tr>\n",
       "    <tr>\n",
       "      <th>191</th>\n",
       "      <td>1214</td>\n",
       "      <td>9396</td>\n",
       "      <td>2.757098e+06</td>\n",
       "      <td>4996734</td>\n",
       "      <td>293.433157</td>\n",
       "      <td>Medium_Price_Prd</td>\n",
       "      <td>premium</td>\n",
       "    </tr>\n",
       "    <tr>\n",
       "      <th>226</th>\n",
       "      <td>1289</td>\n",
       "      <td>1930</td>\n",
       "      <td>3.527310e+05</td>\n",
       "      <td>2531363</td>\n",
       "      <td>182.762201</td>\n",
       "      <td>Medium_Price_Prd</td>\n",
       "      <td>premium</td>\n",
       "    </tr>\n",
       "    <tr>\n",
       "      <th>265</th>\n",
       "      <td>1376</td>\n",
       "      <td>86</td>\n",
       "      <td>1.563636e+04</td>\n",
       "      <td>0</td>\n",
       "      <td>181.818182</td>\n",
       "      <td>Medium_Price_Prd</td>\n",
       "      <td>premium</td>\n",
       "    </tr>\n",
       "  </tbody>\n",
       "</table>\n",
       "</div>"
      ],
      "text/plain": [
       "     PrdId  BaseQty  PrdGrossAmount     Budget  Unit_gross_amount  \\\n",
       "21     287      122    1.911170e+04      84770         156.653316   \n",
       "26     401    33534    9.710314e+06  154404142         289.566229   \n",
       "28     522     5294    1.446432e+06    2944291         273.221024   \n",
       "44     794     5886    1.598420e+06     437315         271.562989   \n",
       "70     910      335    9.541611e+04     865465         284.824210   \n",
       "138   1090      299    5.315556e+04    1750863         177.777780   \n",
       "153   1154     1815    3.426549e+05    5507286         188.790560   \n",
       "160   1168      955    2.043621e+05     256980         213.991770   \n",
       "167   1180       32    5.775701e+03     105468         180.490655   \n",
       "181   1195       67    1.329365e+04      20641         198.412698   \n",
       "182   1196        2    5.952381e+02       1440         297.619050   \n",
       "191   1214     9396    2.757098e+06    4996734         293.433157   \n",
       "226   1289     1930    3.527310e+05    2531363         182.762201   \n",
       "265   1376       86    1.563636e+04          0         181.818182   \n",
       "\n",
       "         Product_type Product_class  \n",
       "21   Medium_Price_Prd       premium  \n",
       "26   Medium_Price_Prd       premium  \n",
       "28   Medium_Price_Prd       premium  \n",
       "44   Medium_Price_Prd       premium  \n",
       "70   Medium_Price_Prd       premium  \n",
       "138  Medium_Price_Prd       premium  \n",
       "153  Medium_Price_Prd       premium  \n",
       "160  Medium_Price_Prd       premium  \n",
       "167  Medium_Price_Prd       premium  \n",
       "181  Medium_Price_Prd       premium  \n",
       "182  Medium_Price_Prd       premium  \n",
       "191  Medium_Price_Prd       premium  \n",
       "226  Medium_Price_Prd       premium  \n",
       "265  Medium_Price_Prd       premium  "
      ]
     },
     "execution_count": 54,
     "metadata": {},
     "output_type": "execute_result"
    }
   ],
   "source": [
    "aa[aa['Product_type']== 'Medium_Price_Prd'] "
   ]
  },
  {
   "cell_type": "code",
   "execution_count": null,
   "metadata": {},
   "outputs": [],
   "source": []
  },
  {
   "cell_type": "code",
   "execution_count": null,
   "metadata": {},
   "outputs": [],
   "source": []
  }
 ],
 "metadata": {
  "kernelspec": {
   "display_name": "Python 3",
   "language": "python",
   "name": "python3"
  },
  "language_info": {
   "codemirror_mode": {
    "name": "ipython",
    "version": 3
   },
   "file_extension": ".py",
   "mimetype": "text/x-python",
   "name": "python",
   "nbconvert_exporter": "python",
   "pygments_lexer": "ipython3",
   "version": "3.6.7"
  }
 },
 "nbformat": 4,
 "nbformat_minor": 2
}
