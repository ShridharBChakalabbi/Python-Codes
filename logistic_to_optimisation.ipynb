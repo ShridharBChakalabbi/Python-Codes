{
 "cells": [
  {
   "cell_type": "code",
   "execution_count": 43,
   "metadata": {},
   "outputs": [],
   "source": [
    "import datetime as dt\n",
    "import pandas as pd\n",
    "import numpy as np\n",
    "import matplotlib as plt\n",
    "from sklearn.model_selection import train_test_split, cross_val_score\n",
    "from sklearn.metrics import accuracy_score, classification_report, precision_score, recall_score \n",
    "from sklearn.metrics import confusion_matrix, precision_recall_curve, roc_curve, auc, log_loss\n",
    "from sklearn.model_selection import train_test_split\n",
    "import numpy as np\n",
    "from sklearn.metrics import roc_curve\n",
    "from sklearn.metrics import auc\n",
    "from sklearn.model_selection import cross_val_score\n",
    "from sklearn.linear_model import LogisticRegression\n",
    "from sklearn.feature_selection import RFE\n",
    "from sklearn.feature_selection import RFECV\n",
    "from pulp import *"
   ]
  },
  {
   "cell_type": "code",
   "execution_count": 44,
   "metadata": {},
   "outputs": [],
   "source": [
    "#Final = pd.read_csv(\"/home/shridhar/optimisation project/optimisation/Finaldata.csv\")\n",
    "Final=pd.read_csv(\"/home/shridhar/optimisation project/optimisation/Month5data.csv\")\n",
    "del Final['Unnamed: 0']"
   ]
  },
  {
   "cell_type": "code",
   "execution_count": 45,
   "metadata": {},
   "outputs": [
    {
     "data": {
      "text/plain": [
       "Index(['AuthDate', 'PrdId', 'SchId', 'SchDsc', 'BaseQty', 'PrdNetAmount',\n",
       "       'PrdGrossAmount', 'Budget'],\n",
       "      dtype='object')"
      ]
     },
     "execution_count": 45,
     "metadata": {},
     "output_type": "execute_result"
    }
   ],
   "source": [
    "Final.columns"
   ]
  },
  {
   "cell_type": "code",
   "execution_count": 46,
   "metadata": {},
   "outputs": [
    {
     "name": "stdout",
     "output_type": "stream",
     "text": [
      "<class 'pandas.core.frame.DataFrame'>\n",
      "RangeIndex: 1288 entries, 0 to 1287\n",
      "Data columns (total 8 columns):\n",
      "AuthDate          1288 non-null object\n",
      "PrdId             1288 non-null int64\n",
      "SchId             1288 non-null int64\n",
      "SchDsc            1288 non-null object\n",
      "BaseQty           1288 non-null int64\n",
      "PrdNetAmount      1288 non-null float64\n",
      "PrdGrossAmount    1288 non-null float64\n",
      "Budget            1288 non-null int64\n",
      "dtypes: float64(2), int64(4), object(2)\n",
      "memory usage: 80.6+ KB\n"
     ]
    }
   ],
   "source": [
    "Final.info()"
   ]
  },
  {
   "cell_type": "code",
   "execution_count": 47,
   "metadata": {},
   "outputs": [
    {
     "data": {
      "text/plain": [
       "AuthDate           object\n",
       "PrdId               int64\n",
       "SchId               int64\n",
       "SchDsc             object\n",
       "BaseQty             int64\n",
       "PrdNetAmount      float64\n",
       "PrdGrossAmount    float64\n",
       "Budget              int64\n",
       "dtype: object"
      ]
     },
     "execution_count": 47,
     "metadata": {},
     "output_type": "execute_result"
    }
   ],
   "source": [
    "Final.dtypes"
   ]
  },
  {
   "cell_type": "code",
   "execution_count": 48,
   "metadata": {},
   "outputs": [],
   "source": [
    "Final['AuthDate']=pd.to_datetime(Final['AuthDate'])"
   ]
  },
  {
   "cell_type": "code",
   "execution_count": 49,
   "metadata": {},
   "outputs": [
    {
     "data": {
      "text/plain": [
       "AuthDate          datetime64[ns]\n",
       "PrdId                      int64\n",
       "SchId                      int64\n",
       "SchDsc                    object\n",
       "BaseQty                    int64\n",
       "PrdNetAmount             float64\n",
       "PrdGrossAmount           float64\n",
       "Budget                     int64\n",
       "dtype: object"
      ]
     },
     "execution_count": 49,
     "metadata": {},
     "output_type": "execute_result"
    }
   ],
   "source": [
    "Final.dtypes"
   ]
  },
  {
   "cell_type": "code",
   "execution_count": 50,
   "metadata": {},
   "outputs": [],
   "source": [
    "Final['Profit'] = Final.PrdNetAmount - Final.PrdGrossAmount\n",
    "Final['Target']=np.where(Final['Budget']>=63652,'High','Low')"
   ]
  },
  {
   "cell_type": "code",
   "execution_count": 51,
   "metadata": {},
   "outputs": [],
   "source": [
    "UP1 = Final.PrdNetAmount/Final.BaseQty\n",
    "UP2 = Final.PrdGrossAmount/Final.BaseQty\n",
    "Final['PrdNetAmount/BaseQty'] = UP1\n",
    "\n",
    "Final['Profit'] = Final['Profit'].abs()"
   ]
  },
  {
   "cell_type": "code",
   "execution_count": 52,
   "metadata": {},
   "outputs": [
    {
     "name": "stdout",
     "output_type": "stream",
     "text": [
      "Selected features: ['SchId', 'BaseQty', 'PrdId', 'PrdNetAmount/BaseQty', 'Profit', 'Budget']\n"
     ]
    },
    {
     "name": "stderr",
     "output_type": "stream",
     "text": [
      "/home/shridhar/anaconda3/lib/python3.6/site-packages/sklearn/linear_model/logistic.py:433: FutureWarning: Default solver will be changed to 'lbfgs' in 0.22. Specify a solver to silence this warning.\n",
      "  FutureWarning)\n",
      "/home/shridhar/anaconda3/lib/python3.6/site-packages/sklearn/linear_model/logistic.py:433: FutureWarning: Default solver will be changed to 'lbfgs' in 0.22. Specify a solver to silence this warning.\n",
      "  FutureWarning)\n",
      "/home/shridhar/anaconda3/lib/python3.6/site-packages/sklearn/linear_model/logistic.py:433: FutureWarning: Default solver will be changed to 'lbfgs' in 0.22. Specify a solver to silence this warning.\n",
      "  FutureWarning)\n"
     ]
    }
   ],
   "source": [
    "cols = ['SchId','BaseQty','PrdId','PrdNetAmount/BaseQty','Profit','PrdNetAmount','PrdGrossAmount','Budget'] \n",
    "X = Final[cols]\n",
    "y = Final['Target']\n",
    "# Build a logreg and compute the feature importances\n",
    "model = LogisticRegression()\n",
    "# create the RFE model and select 8 attributes\n",
    "rfe = RFE(model, 6)\n",
    "rfe = rfe.fit(X, y)\n",
    "# summarize the selection of the attributes\n",
    "print('Selected features: %s' % list(X.columns[rfe.support_]))"
   ]
  },
  {
   "cell_type": "code",
   "execution_count": 53,
   "metadata": {},
   "outputs": [
    {
     "name": "stderr",
     "output_type": "stream",
     "text": [
      "/home/shridhar/anaconda3/lib/python3.6/site-packages/sklearn/linear_model/logistic.py:433: FutureWarning: Default solver will be changed to 'lbfgs' in 0.22. Specify a solver to silence this warning.\n",
      "  FutureWarning)\n",
      "/home/shridhar/anaconda3/lib/python3.6/site-packages/sklearn/linear_model/logistic.py:433: FutureWarning: Default solver will be changed to 'lbfgs' in 0.22. Specify a solver to silence this warning.\n",
      "  FutureWarning)\n",
      "/home/shridhar/anaconda3/lib/python3.6/site-packages/sklearn/linear_model/logistic.py:433: FutureWarning: Default solver will be changed to 'lbfgs' in 0.22. Specify a solver to silence this warning.\n",
      "  FutureWarning)\n",
      "/home/shridhar/anaconda3/lib/python3.6/site-packages/sklearn/linear_model/logistic.py:433: FutureWarning: Default solver will be changed to 'lbfgs' in 0.22. Specify a solver to silence this warning.\n",
      "  FutureWarning)\n",
      "/home/shridhar/anaconda3/lib/python3.6/site-packages/sklearn/linear_model/logistic.py:433: FutureWarning: Default solver will be changed to 'lbfgs' in 0.22. Specify a solver to silence this warning.\n",
      "  FutureWarning)\n",
      "/home/shridhar/anaconda3/lib/python3.6/site-packages/sklearn/linear_model/logistic.py:433: FutureWarning: Default solver will be changed to 'lbfgs' in 0.22. Specify a solver to silence this warning.\n",
      "  FutureWarning)\n",
      "/home/shridhar/anaconda3/lib/python3.6/site-packages/sklearn/linear_model/logistic.py:433: FutureWarning: Default solver will be changed to 'lbfgs' in 0.22. Specify a solver to silence this warning.\n",
      "  FutureWarning)\n",
      "/home/shridhar/anaconda3/lib/python3.6/site-packages/sklearn/linear_model/logistic.py:433: FutureWarning: Default solver will be changed to 'lbfgs' in 0.22. Specify a solver to silence this warning.\n",
      "  FutureWarning)\n",
      "/home/shridhar/anaconda3/lib/python3.6/site-packages/sklearn/linear_model/logistic.py:433: FutureWarning: Default solver will be changed to 'lbfgs' in 0.22. Specify a solver to silence this warning.\n",
      "  FutureWarning)\n",
      "/home/shridhar/anaconda3/lib/python3.6/site-packages/sklearn/linear_model/logistic.py:433: FutureWarning: Default solver will be changed to 'lbfgs' in 0.22. Specify a solver to silence this warning.\n",
      "  FutureWarning)\n",
      "/home/shridhar/anaconda3/lib/python3.6/site-packages/sklearn/linear_model/logistic.py:433: FutureWarning: Default solver will be changed to 'lbfgs' in 0.22. Specify a solver to silence this warning.\n",
      "  FutureWarning)\n",
      "/home/shridhar/anaconda3/lib/python3.6/site-packages/sklearn/linear_model/logistic.py:433: FutureWarning: Default solver will be changed to 'lbfgs' in 0.22. Specify a solver to silence this warning.\n",
      "  FutureWarning)\n",
      "/home/shridhar/anaconda3/lib/python3.6/site-packages/sklearn/linear_model/logistic.py:433: FutureWarning: Default solver will be changed to 'lbfgs' in 0.22. Specify a solver to silence this warning.\n",
      "  FutureWarning)\n",
      "/home/shridhar/anaconda3/lib/python3.6/site-packages/sklearn/linear_model/logistic.py:433: FutureWarning: Default solver will be changed to 'lbfgs' in 0.22. Specify a solver to silence this warning.\n",
      "  FutureWarning)\n",
      "/home/shridhar/anaconda3/lib/python3.6/site-packages/sklearn/linear_model/logistic.py:433: FutureWarning: Default solver will be changed to 'lbfgs' in 0.22. Specify a solver to silence this warning.\n",
      "  FutureWarning)\n",
      "/home/shridhar/anaconda3/lib/python3.6/site-packages/sklearn/linear_model/logistic.py:433: FutureWarning: Default solver will be changed to 'lbfgs' in 0.22. Specify a solver to silence this warning.\n",
      "  FutureWarning)\n",
      "/home/shridhar/anaconda3/lib/python3.6/site-packages/sklearn/linear_model/logistic.py:433: FutureWarning: Default solver will be changed to 'lbfgs' in 0.22. Specify a solver to silence this warning.\n",
      "  FutureWarning)\n",
      "/home/shridhar/anaconda3/lib/python3.6/site-packages/sklearn/linear_model/logistic.py:433: FutureWarning: Default solver will be changed to 'lbfgs' in 0.22. Specify a solver to silence this warning.\n",
      "  FutureWarning)\n",
      "/home/shridhar/anaconda3/lib/python3.6/site-packages/sklearn/linear_model/logistic.py:433: FutureWarning: Default solver will be changed to 'lbfgs' in 0.22. Specify a solver to silence this warning.\n",
      "  FutureWarning)\n",
      "/home/shridhar/anaconda3/lib/python3.6/site-packages/sklearn/linear_model/logistic.py:433: FutureWarning: Default solver will be changed to 'lbfgs' in 0.22. Specify a solver to silence this warning.\n",
      "  FutureWarning)\n",
      "/home/shridhar/anaconda3/lib/python3.6/site-packages/sklearn/linear_model/logistic.py:433: FutureWarning: Default solver will be changed to 'lbfgs' in 0.22. Specify a solver to silence this warning.\n",
      "  FutureWarning)\n",
      "/home/shridhar/anaconda3/lib/python3.6/site-packages/sklearn/linear_model/logistic.py:433: FutureWarning: Default solver will be changed to 'lbfgs' in 0.22. Specify a solver to silence this warning.\n",
      "  FutureWarning)\n",
      "/home/shridhar/anaconda3/lib/python3.6/site-packages/sklearn/linear_model/logistic.py:433: FutureWarning: Default solver will be changed to 'lbfgs' in 0.22. Specify a solver to silence this warning.\n",
      "  FutureWarning)\n",
      "/home/shridhar/anaconda3/lib/python3.6/site-packages/sklearn/linear_model/logistic.py:433: FutureWarning: Default solver will be changed to 'lbfgs' in 0.22. Specify a solver to silence this warning.\n",
      "  FutureWarning)\n",
      "/home/shridhar/anaconda3/lib/python3.6/site-packages/sklearn/linear_model/logistic.py:433: FutureWarning: Default solver will be changed to 'lbfgs' in 0.22. Specify a solver to silence this warning.\n",
      "  FutureWarning)\n",
      "/home/shridhar/anaconda3/lib/python3.6/site-packages/sklearn/linear_model/logistic.py:433: FutureWarning: Default solver will be changed to 'lbfgs' in 0.22. Specify a solver to silence this warning.\n",
      "  FutureWarning)\n",
      "/home/shridhar/anaconda3/lib/python3.6/site-packages/sklearn/linear_model/logistic.py:433: FutureWarning: Default solver will be changed to 'lbfgs' in 0.22. Specify a solver to silence this warning.\n",
      "  FutureWarning)\n",
      "/home/shridhar/anaconda3/lib/python3.6/site-packages/sklearn/linear_model/logistic.py:433: FutureWarning: Default solver will be changed to 'lbfgs' in 0.22. Specify a solver to silence this warning.\n",
      "  FutureWarning)\n",
      "/home/shridhar/anaconda3/lib/python3.6/site-packages/sklearn/linear_model/logistic.py:433: FutureWarning: Default solver will be changed to 'lbfgs' in 0.22. Specify a solver to silence this warning.\n",
      "  FutureWarning)\n",
      "/home/shridhar/anaconda3/lib/python3.6/site-packages/sklearn/linear_model/logistic.py:433: FutureWarning: Default solver will be changed to 'lbfgs' in 0.22. Specify a solver to silence this warning.\n",
      "  FutureWarning)\n",
      "/home/shridhar/anaconda3/lib/python3.6/site-packages/sklearn/linear_model/logistic.py:433: FutureWarning: Default solver will be changed to 'lbfgs' in 0.22. Specify a solver to silence this warning.\n",
      "  FutureWarning)\n",
      "/home/shridhar/anaconda3/lib/python3.6/site-packages/sklearn/linear_model/logistic.py:433: FutureWarning: Default solver will be changed to 'lbfgs' in 0.22. Specify a solver to silence this warning.\n",
      "  FutureWarning)\n",
      "/home/shridhar/anaconda3/lib/python3.6/site-packages/sklearn/linear_model/logistic.py:433: FutureWarning: Default solver will be changed to 'lbfgs' in 0.22. Specify a solver to silence this warning.\n",
      "  FutureWarning)\n",
      "/home/shridhar/anaconda3/lib/python3.6/site-packages/sklearn/linear_model/logistic.py:433: FutureWarning: Default solver will be changed to 'lbfgs' in 0.22. Specify a solver to silence this warning.\n",
      "  FutureWarning)\n",
      "/home/shridhar/anaconda3/lib/python3.6/site-packages/sklearn/linear_model/logistic.py:433: FutureWarning: Default solver will be changed to 'lbfgs' in 0.22. Specify a solver to silence this warning.\n",
      "  FutureWarning)\n",
      "/home/shridhar/anaconda3/lib/python3.6/site-packages/sklearn/linear_model/logistic.py:433: FutureWarning: Default solver will be changed to 'lbfgs' in 0.22. Specify a solver to silence this warning.\n",
      "  FutureWarning)\n",
      "/home/shridhar/anaconda3/lib/python3.6/site-packages/sklearn/linear_model/logistic.py:433: FutureWarning: Default solver will be changed to 'lbfgs' in 0.22. Specify a solver to silence this warning.\n",
      "  FutureWarning)\n",
      "/home/shridhar/anaconda3/lib/python3.6/site-packages/sklearn/linear_model/logistic.py:433: FutureWarning: Default solver will be changed to 'lbfgs' in 0.22. Specify a solver to silence this warning.\n",
      "  FutureWarning)\n",
      "/home/shridhar/anaconda3/lib/python3.6/site-packages/sklearn/linear_model/logistic.py:433: FutureWarning: Default solver will be changed to 'lbfgs' in 0.22. Specify a solver to silence this warning.\n",
      "  FutureWarning)\n",
      "/home/shridhar/anaconda3/lib/python3.6/site-packages/sklearn/linear_model/logistic.py:433: FutureWarning: Default solver will be changed to 'lbfgs' in 0.22. Specify a solver to silence this warning.\n",
      "  FutureWarning)\n",
      "/home/shridhar/anaconda3/lib/python3.6/site-packages/sklearn/linear_model/logistic.py:433: FutureWarning: Default solver will be changed to 'lbfgs' in 0.22. Specify a solver to silence this warning.\n",
      "  FutureWarning)\n",
      "/home/shridhar/anaconda3/lib/python3.6/site-packages/sklearn/linear_model/logistic.py:433: FutureWarning: Default solver will be changed to 'lbfgs' in 0.22. Specify a solver to silence this warning.\n",
      "  FutureWarning)\n",
      "/home/shridhar/anaconda3/lib/python3.6/site-packages/sklearn/linear_model/logistic.py:433: FutureWarning: Default solver will be changed to 'lbfgs' in 0.22. Specify a solver to silence this warning.\n",
      "  FutureWarning)\n",
      "/home/shridhar/anaconda3/lib/python3.6/site-packages/sklearn/linear_model/logistic.py:433: FutureWarning: Default solver will be changed to 'lbfgs' in 0.22. Specify a solver to silence this warning.\n",
      "  FutureWarning)\n",
      "/home/shridhar/anaconda3/lib/python3.6/site-packages/sklearn/linear_model/logistic.py:433: FutureWarning: Default solver will be changed to 'lbfgs' in 0.22. Specify a solver to silence this warning.\n",
      "  FutureWarning)\n",
      "/home/shridhar/anaconda3/lib/python3.6/site-packages/sklearn/linear_model/logistic.py:433: FutureWarning: Default solver will be changed to 'lbfgs' in 0.22. Specify a solver to silence this warning.\n",
      "  FutureWarning)\n",
      "/home/shridhar/anaconda3/lib/python3.6/site-packages/sklearn/linear_model/logistic.py:433: FutureWarning: Default solver will be changed to 'lbfgs' in 0.22. Specify a solver to silence this warning.\n",
      "  FutureWarning)\n",
      "/home/shridhar/anaconda3/lib/python3.6/site-packages/sklearn/linear_model/logistic.py:433: FutureWarning: Default solver will be changed to 'lbfgs' in 0.22. Specify a solver to silence this warning.\n",
      "  FutureWarning)\n",
      "/home/shridhar/anaconda3/lib/python3.6/site-packages/sklearn/linear_model/logistic.py:433: FutureWarning: Default solver will be changed to 'lbfgs' in 0.22. Specify a solver to silence this warning.\n",
      "  FutureWarning)\n",
      "/home/shridhar/anaconda3/lib/python3.6/site-packages/sklearn/linear_model/logistic.py:433: FutureWarning: Default solver will be changed to 'lbfgs' in 0.22. Specify a solver to silence this warning.\n",
      "  FutureWarning)\n",
      "/home/shridhar/anaconda3/lib/python3.6/site-packages/sklearn/linear_model/logistic.py:433: FutureWarning: Default solver will be changed to 'lbfgs' in 0.22. Specify a solver to silence this warning.\n",
      "  FutureWarning)\n",
      "/home/shridhar/anaconda3/lib/python3.6/site-packages/sklearn/linear_model/logistic.py:433: FutureWarning: Default solver will be changed to 'lbfgs' in 0.22. Specify a solver to silence this warning.\n",
      "  FutureWarning)\n",
      "/home/shridhar/anaconda3/lib/python3.6/site-packages/sklearn/linear_model/logistic.py:433: FutureWarning: Default solver will be changed to 'lbfgs' in 0.22. Specify a solver to silence this warning.\n",
      "  FutureWarning)\n",
      "/home/shridhar/anaconda3/lib/python3.6/site-packages/sklearn/linear_model/logistic.py:433: FutureWarning: Default solver will be changed to 'lbfgs' in 0.22. Specify a solver to silence this warning.\n",
      "  FutureWarning)\n",
      "/home/shridhar/anaconda3/lib/python3.6/site-packages/sklearn/linear_model/logistic.py:433: FutureWarning: Default solver will be changed to 'lbfgs' in 0.22. Specify a solver to silence this warning.\n",
      "  FutureWarning)\n",
      "/home/shridhar/anaconda3/lib/python3.6/site-packages/sklearn/linear_model/logistic.py:433: FutureWarning: Default solver will be changed to 'lbfgs' in 0.22. Specify a solver to silence this warning.\n",
      "  FutureWarning)\n",
      "/home/shridhar/anaconda3/lib/python3.6/site-packages/sklearn/linear_model/logistic.py:433: FutureWarning: Default solver will be changed to 'lbfgs' in 0.22. Specify a solver to silence this warning.\n",
      "  FutureWarning)\n",
      "/home/shridhar/anaconda3/lib/python3.6/site-packages/sklearn/linear_model/logistic.py:433: FutureWarning: Default solver will be changed to 'lbfgs' in 0.22. Specify a solver to silence this warning.\n",
      "  FutureWarning)\n",
      "/home/shridhar/anaconda3/lib/python3.6/site-packages/sklearn/linear_model/logistic.py:433: FutureWarning: Default solver will be changed to 'lbfgs' in 0.22. Specify a solver to silence this warning.\n",
      "  FutureWarning)\n",
      "/home/shridhar/anaconda3/lib/python3.6/site-packages/sklearn/linear_model/logistic.py:433: FutureWarning: Default solver will be changed to 'lbfgs' in 0.22. Specify a solver to silence this warning.\n",
      "  FutureWarning)\n",
      "/home/shridhar/anaconda3/lib/python3.6/site-packages/sklearn/linear_model/logistic.py:433: FutureWarning: Default solver will be changed to 'lbfgs' in 0.22. Specify a solver to silence this warning.\n",
      "  FutureWarning)\n",
      "/home/shridhar/anaconda3/lib/python3.6/site-packages/sklearn/linear_model/logistic.py:433: FutureWarning: Default solver will be changed to 'lbfgs' in 0.22. Specify a solver to silence this warning.\n",
      "  FutureWarning)\n",
      "/home/shridhar/anaconda3/lib/python3.6/site-packages/sklearn/linear_model/logistic.py:433: FutureWarning: Default solver will be changed to 'lbfgs' in 0.22. Specify a solver to silence this warning.\n",
      "  FutureWarning)\n",
      "/home/shridhar/anaconda3/lib/python3.6/site-packages/sklearn/linear_model/logistic.py:433: FutureWarning: Default solver will be changed to 'lbfgs' in 0.22. Specify a solver to silence this warning.\n",
      "  FutureWarning)\n",
      "/home/shridhar/anaconda3/lib/python3.6/site-packages/sklearn/linear_model/logistic.py:433: FutureWarning: Default solver will be changed to 'lbfgs' in 0.22. Specify a solver to silence this warning.\n",
      "  FutureWarning)\n",
      "/home/shridhar/anaconda3/lib/python3.6/site-packages/sklearn/linear_model/logistic.py:433: FutureWarning: Default solver will be changed to 'lbfgs' in 0.22. Specify a solver to silence this warning.\n",
      "  FutureWarning)\n",
      "/home/shridhar/anaconda3/lib/python3.6/site-packages/sklearn/linear_model/logistic.py:433: FutureWarning: Default solver will be changed to 'lbfgs' in 0.22. Specify a solver to silence this warning.\n",
      "  FutureWarning)\n",
      "/home/shridhar/anaconda3/lib/python3.6/site-packages/sklearn/linear_model/logistic.py:433: FutureWarning: Default solver will be changed to 'lbfgs' in 0.22. Specify a solver to silence this warning.\n",
      "  FutureWarning)\n"
     ]
    },
    {
     "name": "stderr",
     "output_type": "stream",
     "text": [
      "/home/shridhar/anaconda3/lib/python3.6/site-packages/sklearn/linear_model/logistic.py:433: FutureWarning: Default solver will be changed to 'lbfgs' in 0.22. Specify a solver to silence this warning.\n",
      "  FutureWarning)\n",
      "/home/shridhar/anaconda3/lib/python3.6/site-packages/sklearn/linear_model/logistic.py:433: FutureWarning: Default solver will be changed to 'lbfgs' in 0.22. Specify a solver to silence this warning.\n",
      "  FutureWarning)\n",
      "/home/shridhar/anaconda3/lib/python3.6/site-packages/sklearn/linear_model/logistic.py:433: FutureWarning: Default solver will be changed to 'lbfgs' in 0.22. Specify a solver to silence this warning.\n",
      "  FutureWarning)\n",
      "/home/shridhar/anaconda3/lib/python3.6/site-packages/sklearn/linear_model/logistic.py:433: FutureWarning: Default solver will be changed to 'lbfgs' in 0.22. Specify a solver to silence this warning.\n",
      "  FutureWarning)\n",
      "/home/shridhar/anaconda3/lib/python3.6/site-packages/sklearn/linear_model/logistic.py:433: FutureWarning: Default solver will be changed to 'lbfgs' in 0.22. Specify a solver to silence this warning.\n",
      "  FutureWarning)\n",
      "/home/shridhar/anaconda3/lib/python3.6/site-packages/sklearn/linear_model/logistic.py:433: FutureWarning: Default solver will be changed to 'lbfgs' in 0.22. Specify a solver to silence this warning.\n",
      "  FutureWarning)\n",
      "/home/shridhar/anaconda3/lib/python3.6/site-packages/sklearn/linear_model/logistic.py:433: FutureWarning: Default solver will be changed to 'lbfgs' in 0.22. Specify a solver to silence this warning.\n",
      "  FutureWarning)\n",
      "/home/shridhar/anaconda3/lib/python3.6/site-packages/sklearn/linear_model/logistic.py:433: FutureWarning: Default solver will be changed to 'lbfgs' in 0.22. Specify a solver to silence this warning.\n",
      "  FutureWarning)\n",
      "/home/shridhar/anaconda3/lib/python3.6/site-packages/sklearn/linear_model/logistic.py:433: FutureWarning: Default solver will be changed to 'lbfgs' in 0.22. Specify a solver to silence this warning.\n",
      "  FutureWarning)\n",
      "/home/shridhar/anaconda3/lib/python3.6/site-packages/sklearn/linear_model/logistic.py:433: FutureWarning: Default solver will be changed to 'lbfgs' in 0.22. Specify a solver to silence this warning.\n",
      "  FutureWarning)\n",
      "/home/shridhar/anaconda3/lib/python3.6/site-packages/sklearn/linear_model/logistic.py:433: FutureWarning: Default solver will be changed to 'lbfgs' in 0.22. Specify a solver to silence this warning.\n",
      "  FutureWarning)\n",
      "/home/shridhar/anaconda3/lib/python3.6/site-packages/sklearn/linear_model/logistic.py:433: FutureWarning: Default solver will be changed to 'lbfgs' in 0.22. Specify a solver to silence this warning.\n",
      "  FutureWarning)\n",
      "/home/shridhar/anaconda3/lib/python3.6/site-packages/sklearn/linear_model/logistic.py:433: FutureWarning: Default solver will be changed to 'lbfgs' in 0.22. Specify a solver to silence this warning.\n",
      "  FutureWarning)\n",
      "/home/shridhar/anaconda3/lib/python3.6/site-packages/sklearn/linear_model/logistic.py:433: FutureWarning: Default solver will be changed to 'lbfgs' in 0.22. Specify a solver to silence this warning.\n",
      "  FutureWarning)\n",
      "/home/shridhar/anaconda3/lib/python3.6/site-packages/sklearn/linear_model/logistic.py:433: FutureWarning: Default solver will be changed to 'lbfgs' in 0.22. Specify a solver to silence this warning.\n",
      "  FutureWarning)\n"
     ]
    },
    {
     "data": {
      "text/plain": [
       "RFECV(cv=10,\n",
       "   estimator=LogisticRegression(C=1.0, class_weight=None, dual=False, fit_intercept=True,\n",
       "          intercept_scaling=1, max_iter=100, multi_class='warn',\n",
       "          n_jobs=None, penalty='l2', random_state=None, solver='warn',\n",
       "          tol=0.0001, verbose=0, warm_start=False),\n",
       "   min_features_to_select=1, n_jobs=None, scoring='accuracy', step=1,\n",
       "   verbose=0)"
      ]
     },
     "execution_count": 53,
     "metadata": {},
     "output_type": "execute_result"
    }
   ],
   "source": [
    "# Create the RFE object and compute a cross-validated score.\n",
    "# The \"accuracy\" scoring is proportional to the number of correct classifications\n",
    "rfecv = RFECV(estimator=LogisticRegression(), step=1, cv=10, scoring='accuracy')\n",
    "rfecv.fit(X, y)"
   ]
  },
  {
   "cell_type": "code",
   "execution_count": 54,
   "metadata": {},
   "outputs": [
    {
     "name": "stdout",
     "output_type": "stream",
     "text": [
      "Optimal number of features: 7\n",
      "Selected features: ['SchId', 'BaseQty', 'PrdId', 'PrdNetAmount/BaseQty', 'Profit', 'PrdNetAmount', 'Budget']\n"
     ]
    }
   ],
   "source": [
    "print(\"Optimal number of features: %d\" % rfecv.n_features_)\n",
    "print('Selected features: %s' % list(X.columns[rfecv.support_]))"
   ]
  },
  {
   "cell_type": "code",
   "execution_count": 33,
   "metadata": {},
   "outputs": [
    {
     "name": "stderr",
     "output_type": "stream",
     "text": [
      "/home/shridhar/anaconda3/lib/python3.6/site-packages/sklearn/linear_model/logistic.py:433: FutureWarning: Default solver will be changed to 'lbfgs' in 0.22. Specify a solver to silence this warning.\n",
      "  FutureWarning)\n",
      "/home/shridhar/anaconda3/lib/python3.6/site-packages/sklearn/linear_model/logistic.py:433: FutureWarning: Default solver will be changed to 'lbfgs' in 0.22. Specify a solver to silence this warning.\n",
      "  FutureWarning)\n",
      "/home/shridhar/anaconda3/lib/python3.6/site-packages/sklearn/linear_model/logistic.py:433: FutureWarning: Default solver will be changed to 'lbfgs' in 0.22. Specify a solver to silence this warning.\n",
      "  FutureWarning)\n",
      "/home/shridhar/anaconda3/lib/python3.6/site-packages/sklearn/linear_model/logistic.py:433: FutureWarning: Default solver will be changed to 'lbfgs' in 0.22. Specify a solver to silence this warning.\n",
      "  FutureWarning)\n",
      "/home/shridhar/anaconda3/lib/python3.6/site-packages/sklearn/linear_model/logistic.py:433: FutureWarning: Default solver will be changed to 'lbfgs' in 0.22. Specify a solver to silence this warning.\n",
      "  FutureWarning)\n",
      "/home/shridhar/anaconda3/lib/python3.6/site-packages/sklearn/linear_model/logistic.py:433: FutureWarning: Default solver will be changed to 'lbfgs' in 0.22. Specify a solver to silence this warning.\n",
      "  FutureWarning)\n",
      "/home/shridhar/anaconda3/lib/python3.6/site-packages/sklearn/linear_model/logistic.py:433: FutureWarning: Default solver will be changed to 'lbfgs' in 0.22. Specify a solver to silence this warning.\n",
      "  FutureWarning)\n",
      "/home/shridhar/anaconda3/lib/python3.6/site-packages/sklearn/linear_model/logistic.py:433: FutureWarning: Default solver will be changed to 'lbfgs' in 0.22. Specify a solver to silence this warning.\n",
      "  FutureWarning)\n",
      "/home/shridhar/anaconda3/lib/python3.6/site-packages/sklearn/linear_model/logistic.py:433: FutureWarning: Default solver will be changed to 'lbfgs' in 0.22. Specify a solver to silence this warning.\n",
      "  FutureWarning)\n",
      "/home/shridhar/anaconda3/lib/python3.6/site-packages/sklearn/linear_model/logistic.py:433: FutureWarning: Default solver will be changed to 'lbfgs' in 0.22. Specify a solver to silence this warning.\n",
      "  FutureWarning)\n",
      "/home/shridhar/anaconda3/lib/python3.6/site-packages/sklearn/linear_model/logistic.py:433: FutureWarning: Default solver will be changed to 'lbfgs' in 0.22. Specify a solver to silence this warning.\n",
      "  FutureWarning)\n",
      "/home/shridhar/anaconda3/lib/python3.6/site-packages/sklearn/linear_model/logistic.py:433: FutureWarning: Default solver will be changed to 'lbfgs' in 0.22. Specify a solver to silence this warning.\n",
      "  FutureWarning)\n",
      "/home/shridhar/anaconda3/lib/python3.6/site-packages/sklearn/linear_model/logistic.py:433: FutureWarning: Default solver will be changed to 'lbfgs' in 0.22. Specify a solver to silence this warning.\n",
      "  FutureWarning)\n",
      "/home/shridhar/anaconda3/lib/python3.6/site-packages/sklearn/linear_model/logistic.py:433: FutureWarning: Default solver will be changed to 'lbfgs' in 0.22. Specify a solver to silence this warning.\n",
      "  FutureWarning)\n",
      "/home/shridhar/anaconda3/lib/python3.6/site-packages/sklearn/linear_model/logistic.py:433: FutureWarning: Default solver will be changed to 'lbfgs' in 0.22. Specify a solver to silence this warning.\n",
      "  FutureWarning)\n",
      "/home/shridhar/anaconda3/lib/python3.6/site-packages/sklearn/linear_model/logistic.py:433: FutureWarning: Default solver will be changed to 'lbfgs' in 0.22. Specify a solver to silence this warning.\n",
      "  FutureWarning)\n",
      "/home/shridhar/anaconda3/lib/python3.6/site-packages/sklearn/linear_model/logistic.py:433: FutureWarning: Default solver will be changed to 'lbfgs' in 0.22. Specify a solver to silence this warning.\n",
      "  FutureWarning)\n"
     ]
    },
    {
     "name": "stdout",
     "output_type": "stream",
     "text": [
      "Train/Test split results:\n",
      "LogisticRegression accuracy is 0.977\n",
      "LogisticRegression log_loss is 0.060\n",
      "K-fold cross-validation results:\n",
      "LogisticRegression average accuracy is 0.975\n",
      "LogisticRegression average log_loss is 0.061\n",
      "LogisticRegression average auc is 1.000\n"
     ]
    },
    {
     "name": "stderr",
     "output_type": "stream",
     "text": [
      "/home/shridhar/anaconda3/lib/python3.6/site-packages/sklearn/linear_model/logistic.py:433: FutureWarning: Default solver will be changed to 'lbfgs' in 0.22. Specify a solver to silence this warning.\n",
      "  FutureWarning)\n",
      "/home/shridhar/anaconda3/lib/python3.6/site-packages/sklearn/linear_model/logistic.py:433: FutureWarning: Default solver will be changed to 'lbfgs' in 0.22. Specify a solver to silence this warning.\n",
      "  FutureWarning)\n",
      "/home/shridhar/anaconda3/lib/python3.6/site-packages/sklearn/linear_model/logistic.py:433: FutureWarning: Default solver will be changed to 'lbfgs' in 0.22. Specify a solver to silence this warning.\n",
      "  FutureWarning)\n",
      "/home/shridhar/anaconda3/lib/python3.6/site-packages/sklearn/linear_model/logistic.py:433: FutureWarning: Default solver will be changed to 'lbfgs' in 0.22. Specify a solver to silence this warning.\n",
      "  FutureWarning)\n",
      "/home/shridhar/anaconda3/lib/python3.6/site-packages/sklearn/linear_model/logistic.py:433: FutureWarning: Default solver will be changed to 'lbfgs' in 0.22. Specify a solver to silence this warning.\n",
      "  FutureWarning)\n",
      "/home/shridhar/anaconda3/lib/python3.6/site-packages/sklearn/linear_model/logistic.py:433: FutureWarning: Default solver will be changed to 'lbfgs' in 0.22. Specify a solver to silence this warning.\n",
      "  FutureWarning)\n",
      "/home/shridhar/anaconda3/lib/python3.6/site-packages/sklearn/linear_model/logistic.py:433: FutureWarning: Default solver will be changed to 'lbfgs' in 0.22. Specify a solver to silence this warning.\n",
      "  FutureWarning)\n",
      "/home/shridhar/anaconda3/lib/python3.6/site-packages/sklearn/linear_model/logistic.py:433: FutureWarning: Default solver will be changed to 'lbfgs' in 0.22. Specify a solver to silence this warning.\n",
      "  FutureWarning)\n",
      "/home/shridhar/anaconda3/lib/python3.6/site-packages/sklearn/linear_model/logistic.py:433: FutureWarning: Default solver will be changed to 'lbfgs' in 0.22. Specify a solver to silence this warning.\n",
      "  FutureWarning)\n",
      "/home/shridhar/anaconda3/lib/python3.6/site-packages/sklearn/linear_model/logistic.py:433: FutureWarning: Default solver will be changed to 'lbfgs' in 0.22. Specify a solver to silence this warning.\n",
      "  FutureWarning)\n",
      "/home/shridhar/anaconda3/lib/python3.6/site-packages/sklearn/linear_model/logistic.py:433: FutureWarning: Default solver will be changed to 'lbfgs' in 0.22. Specify a solver to silence this warning.\n",
      "  FutureWarning)\n",
      "/home/shridhar/anaconda3/lib/python3.6/site-packages/sklearn/linear_model/logistic.py:433: FutureWarning: Default solver will be changed to 'lbfgs' in 0.22. Specify a solver to silence this warning.\n",
      "  FutureWarning)\n",
      "/home/shridhar/anaconda3/lib/python3.6/site-packages/sklearn/linear_model/logistic.py:433: FutureWarning: Default solver will be changed to 'lbfgs' in 0.22. Specify a solver to silence this warning.\n",
      "  FutureWarning)\n",
      "/home/shridhar/anaconda3/lib/python3.6/site-packages/sklearn/linear_model/logistic.py:433: FutureWarning: Default solver will be changed to 'lbfgs' in 0.22. Specify a solver to silence this warning.\n",
      "  FutureWarning)\n"
     ]
    }
   ],
   "source": [
    "# create X (features) and y (response)\n",
    "X = Final[cols]\n",
    "y = Final['Target']\n",
    "# use train/test split with different random_state values\n",
    "# we can change the random_state values that changes the accuracy scores\n",
    "# the scores change a lot, this is why testing scores is a high-variance estimate\n",
    "X_train, X_test, y_train, y_test = train_test_split(X, y, test_size=0.2, random_state=2)\n",
    "\n",
    "# check classification scores of logistic regression\n",
    "logreg = LogisticRegression()\n",
    "logreg.fit(X_train, y_train)\n",
    "y_pred = logreg.predict(X_test)\n",
    "y_pred_proba = logreg.predict_proba(X_test)[:, 1]\n",
    "#[fpr, tpr, thr] = roc_curve(y_test, y_pred_proba)\n",
    "print('Train/Test split results:')\n",
    "print(logreg.__class__.__name__+\" accuracy is %2.3f\" % accuracy_score(y_test, y_pred))\n",
    "print(logreg.__class__.__name__+\" log_loss is %2.3f\" % log_loss(y_test, y_pred_proba))\n",
    "\n",
    "# 10-fold cross-validation logistic regression\n",
    "logreg = LogisticRegression()\n",
    "# Use cross_val_score function\n",
    "# We are passing the entirety of X and y, not X_train or y_train, it takes care of splitting the data\n",
    "# cv=10 for 10 folds\n",
    "# scoring = {'accuracy', 'neg_log_loss', 'roc_auc'} for evaluation metric - althought they are many\n",
    "scores_accuracy = cross_val_score(logreg, X, y, cv=10, scoring='accuracy')\n",
    "scores_log_loss = cross_val_score(logreg, X, y, cv=10, scoring='neg_log_loss')\n",
    "scores_auc = cross_val_score(logreg, X, y, cv=10, scoring='roc_auc')\n",
    "print('K-fold cross-validation results:')\n",
    "print(logreg.__class__.__name__+\" average accuracy is %2.3f\" % scores_accuracy.mean())\n",
    "print(logreg.__class__.__name__+\" average log_loss is %2.3f\" % -scores_log_loss.mean())\n",
    "print(logreg.__class__.__name__+\" average auc is %2.3f\" % scores_auc.mean())"
   ]
  },
  {
   "cell_type": "code",
   "execution_count": 55,
   "metadata": {},
   "outputs": [],
   "source": [
    "#######################  Linear Optimisation ########################################################################################\n",
    "\n",
    "prob = LpProblem(\"Product Problem\",LpMinimize)\n",
    "\n",
    "# Read the first few rows dataset in a Pandas DataFrame\n",
    "# Create a list of the product desc items\n",
    "prod_items = list(Final['SchDsc'])\n",
    "\n",
    "# Create a dictinary of costs for all food items\n",
    "costs = dict(zip(prod_items,Final['PrdNetAmount/BaseQty']))  \n",
    "\n",
    "# Create a dictionary of calories for all food items\n",
    "profits = dict(zip(prod_items,Final['Profit']))\n",
    "\n",
    "# Create a dictionary of total fat for all food items\n",
    "BaseQty = dict(zip(prod_items,Final['BaseQty']))\n",
    "\n",
    "# Create a dictionary of carbohydrates for all food items\n",
    "Budget = dict(zip(prod_items,Final['Budget']))\n",
    "\n",
    "Prod_vars = LpVariable.dicts(\"prod\",prod_items,lowBound=0,cat='Integer')\n",
    "prob += lpSum([costs[i]*Prod_vars[i] for i in prod_items])"
   ]
  },
  {
   "cell_type": "code",
   "execution_count": 56,
   "metadata": {},
   "outputs": [
    {
     "name": "stdout",
     "output_type": "stream",
     "text": [
      "Minimum_BaseQty: 30\n",
      "Maximum_BaseQty: 50\n",
      "Minimum_Budget: 1000\n",
      "Maximum_Budget: 2000\n",
      "Minimum_profits: 1100\n",
      "Maximum_profits: 2100\n"
     ]
    }
   ],
   "source": [
    "prob += lpSum([BaseQty[f] * Prod_vars[f] for f in prod_items]) >= float(input(\"Minimum_BaseQty: \"))\n",
    "prob += lpSum([BaseQty[f] * Prod_vars[f] for f in prod_items]) <= float(input(\"Maximum_BaseQty: \"))\n",
    "\n",
    "# Budget\n",
    "prob += lpSum([Budget[f] * Prod_vars[f] for f in prod_items]) >= float(input(\"Minimum_Budget: \")),\"BudgetMinimum\"\n",
    "prob += lpSum([Budget[f] * Prod_vars[f] for f in prod_items]) <= float(input(\"Maximum_Budget: \")),\"BudgetMaximum\"\n",
    "\n",
    "# profits\n",
    "prob += lpSum([profits[f] * Prod_vars[f] for f in prod_items]) >= float(input(\"Minimum_profits: \")),\"profitsMinimum\"\n",
    "prob += lpSum([profits[f] * Prod_vars[f] for f in prod_items]) <= float(input(\"Maximum_profits: \")),\"profitsMaximum\""
   ]
  },
  {
   "cell_type": "code",
   "execution_count": 57,
   "metadata": {},
   "outputs": [
    {
     "name": "stdout",
     "output_type": "stream",
     "text": [
      "Status: Infeasible\n"
     ]
    }
   ],
   "source": [
    "prob\n",
    "prob.solve()\n",
    "\n",
    "# The status of the solution is printed to the screen\n",
    "print(\"Status:\", LpStatus[prob.status])\n"
   ]
  },
  {
   "cell_type": "code",
   "execution_count": 58,
   "metadata": {
    "scrolled": true
   },
   "outputs": [
    {
     "data": {
      "text/plain": [
       "[prod_DEL_0112_POLO_2,\n",
       " prod_DEL_0113_KITKAT_23_1,\n",
       " prod_DEL_0113_KITKAT_26_2,\n",
       " prod_DEL_0113_KITKAT_27_3,\n",
       " prod_DEL_0113_KITKAT_46_2,\n",
       " prod_DEL_0113_KTKAT_4F_20_OFF_1_GB,\n",
       " prod_DEL_0113_NCE_200_GM,\n",
       " prod_DEL_0113_NCE_3G_24_3,\n",
       " prod_DEL_0113_NCE_50GM_RS7OFF,\n",
       " prod_DEL_0313_CNC_TPP_ROLLZ_RET,\n",
       " prod_DEL_0411_EVD_TPP_DELHI,\n",
       " prod_DEL_0412_CP_HOT_SWEET,\n",
       " prod_DEL_0412_CP_SAUCE1,\n",
       " prod_DEL_0412_CP_SOUP_1_1_D1,\n",
       " prod_DEL_0413_CNC_TPP_POLO_LQN,\n",
       " prod_DEL_0413_CP_BEV_NCL_50GRJ_DL_UT,\n",
       " prod_DEL_0413_CP_SAUCE1,\n",
       " prod_DEL_0413_GHEE_500ML_TPP_D123N,\n",
       " prod_DEL_0413_MM_6_OFF,\n",
       " prod_DEL_0512_CNC_OG_BAR_1,\n",
       " prod_DEL_0512_CNC_OG_KITKAT,\n",
       " prod_DEL_0512_CNC_OG_MIL_BAR_CHOCLATE,\n",
       " prod_DEL_0512_CNC_OG_MIL_BAR_CHOO,\n",
       " prod_DEL_0512_CNC_OG_MUNCH_REST,\n",
       " prod_DEL_0512_CNC_OG_VA_ECL_CHOCLATE,\n",
       " prod_DEL_0512_CNC_TPP_ECLAIRS_PP,\n",
       " prod_DEL_0512_CNC_TPP_MUNCH_JAR,\n",
       " prod_DEL_0512_CNC_TPP_POLO_RS5,\n",
       " prod_DEL_0512_CNC_TPP_POLO_RS_2,\n",
       " prod_DEL_0512_CP_MN_320GM_SOUP_DLH1,\n",
       " prod_DEL_0512_GHEE_1LTR__TPP_D1,\n",
       " prod_DEL_0512_GHEE_TPP_D1,\n",
       " prod_DEL_0512_MM_CREATION,\n",
       " prod_DEL_0512_NCE_50GM_RS10OFF,\n",
       " prod_DEL_0512_NCE_JAR_190GM,\n",
       " prod_DEL_0512_NCE_TUMBLER_42GM,\n",
       " prod_DEL_0512_TPP_EVD_DELHI,\n",
       " prod_DEL_0512_TPP_MEM,\n",
       " prod_DEL_0512_TPP_NCE_1.5_GM,\n",
       " prod_DEL_0512_TPP_NCE_3.5_GM,\n",
       " prod_DEL_0512_TPP_NCE_42GM_TUMBLER,\n",
       " prod_DEL_0512_TPP_NCE_7_GM,\n",
       " prod_DEL_0512_TPP_NCE_CL_190G_JAR,\n",
       " prod_DEL_0512_TPP_NCE_CL_190G_JAR_CHD,\n",
       " prod_DEL_0512_TPP_NCE__0.7_GM,\n",
       " prod_DEL_0512_TPP_NESTEA_ICE_42GM,\n",
       " prod_DEL_0512_TPP_NESTEA_ICE_500GM,\n",
       " prod_DEL_0512_TPP_SAUCES_DLH,\n",
       " prod_DEL_0512_TPP_SNR_50GM,\n",
       " prod_DEL_0512_TPP_SOUP_REST,\n",
       " prod_DEL_0513_CNC_OG_BAR_1,\n",
       " prod_DEL_0513_CNC_OG_CHOO,\n",
       " prod_DEL_0513_CNC_OG_ECL_CHOC_POLY,\n",
       " prod_DEL_0513_CNC_OG_KITKAT,\n",
       " prod_DEL_0513_CNC_OG_MUNCH,\n",
       " prod_DEL_0513_CNC_OG_MUNCH_N,\n",
       " prod_DEL_0513_CNC_TPP_DNCR_RETAIL_DL,\n",
       " prod_DEL_0513_CNC_TPP_POLO_FASHLQD,\n",
       " prod_DEL_0513_CNC_TPP_POLO_HILL,\n",
       " prod_DEL_0513_CNC_TPP_ROLLZ_RDWS,\n",
       " prod_DEL_0513_CNC_TPP_ROLLZ_RET,\n",
       " prod_DEL_0513_CNC_TPP_VAECL,\n",
       " prod_DEL_0513_CP_AG_SOUPS,\n",
       " prod_DEL_0513_CP_BEV_CAPUNO_LQD,\n",
       " prod_DEL_0513_GHEE_1_LTR_TPP_D_123N,\n",
       " prod_DEL_0513_OG_SAUCES_REST,\n",
       " prod_DEL_0513_TPP_BEV_NCL_200_GM_BB,\n",
       " prod_DEL_0513_TPP_BEV_NCL_7GM,\n",
       " prod_DEL_0513_TPP_BEV_NSTEA_100G_DL,\n",
       " prod_DEL_0513_TPP_BEV_NSTEA__DL,\n",
       " prod_DEL_0513_TPP_BEV_SNRP_1_KG_DL,\n",
       " prod_DEL_0513_TPP_BEV_SNRP_500G_DL,\n",
       " prod_DEL_0513_TPP_EVD_D123,\n",
       " prod_DEL_0513_TPP_MAGICAL,\n",
       " prod_DEL_0513_TPP_MBM_DNCR_CHD.,\n",
       " prod_DEL_0513_TPP_SAUCES_DLH,\n",
       " prod_SAP_1_ATTA_GET_1_PICHKOO_FREE]"
      ]
     },
     "execution_count": 58,
     "metadata": {},
     "output_type": "execute_result"
    }
   ],
   "source": [
    "prob.variables()"
   ]
  },
  {
   "cell_type": "code",
   "execution_count": 59,
   "metadata": {
    "scrolled": true
   },
   "outputs": [
    {
     "name": "stdout",
     "output_type": "stream",
     "text": [
      "prod_DEL_0112_POLO_2 = 0.0\n",
      "prod_DEL_0113_KITKAT_23_1 = 0.0\n",
      "prod_DEL_0113_KITKAT_26_2 = 0.0\n",
      "prod_DEL_0113_KITKAT_27_3 = 0.0\n",
      "prod_DEL_0113_KITKAT_46_2 = 0.0\n",
      "prod_DEL_0113_KTKAT_4F_20_OFF_1_GB = 0.0\n",
      "prod_DEL_0113_NCE_200_GM = 0.0\n",
      "prod_DEL_0113_NCE_3G_24_3 = 0.0\n",
      "prod_DEL_0113_NCE_50GM_RS7OFF = 0.0\n",
      "prod_DEL_0313_CNC_TPP_ROLLZ_RET = 0.0\n",
      "prod_DEL_0411_EVD_TPP_DELHI = 0.0\n",
      "prod_DEL_0412_CP_HOT_SWEET = 0.0\n",
      "prod_DEL_0412_CP_SAUCE1 = 0.0\n",
      "prod_DEL_0412_CP_SOUP_1_1_D1 = 0.0\n",
      "prod_DEL_0413_CNC_TPP_POLO_LQN = 0.0\n",
      "prod_DEL_0413_CP_BEV_NCL_50GRJ_DL_UT = 0.0\n",
      "prod_DEL_0413_CP_SAUCE1 = 0.03159728\n",
      "prod_DEL_0413_GHEE_500ML_TPP_D123N = 0.0\n",
      "prod_DEL_0413_MM_6_OFF = 0.0\n",
      "prod_DEL_0512_CNC_OG_BAR_1 = 0.0\n",
      "prod_DEL_0512_CNC_OG_KITKAT = 0.0\n",
      "prod_DEL_0512_CNC_OG_MIL_BAR_CHOCLATE = 0.0\n",
      "prod_DEL_0512_CNC_OG_MIL_BAR_CHOO = 0.0\n",
      "prod_DEL_0512_CNC_OG_MUNCH_REST = 0.0\n",
      "prod_DEL_0512_CNC_OG_VA_ECL_CHOCLATE = 0.0\n",
      "prod_DEL_0512_CNC_TPP_ECLAIRS_PP = 0.0\n",
      "prod_DEL_0512_CNC_TPP_MUNCH_JAR = 0.0\n",
      "prod_DEL_0512_CNC_TPP_POLO_RS5 = 0.0\n",
      "prod_DEL_0512_CNC_TPP_POLO_RS_2 = 0.0\n",
      "prod_DEL_0512_CP_MN_320GM_SOUP_DLH1 = 0.0\n",
      "prod_DEL_0512_GHEE_1LTR__TPP_D1 = 9.6153846e-05\n",
      "prod_DEL_0512_GHEE_TPP_D1 = 0.0\n",
      "prod_DEL_0512_MM_CREATION = 0.0\n",
      "prod_DEL_0512_NCE_50GM_RS10OFF = 0.0\n",
      "prod_DEL_0512_NCE_JAR_190GM = 0.47040768\n",
      "prod_DEL_0512_NCE_TUMBLER_42GM = 0.0\n",
      "prod_DEL_0512_TPP_EVD_DELHI = 0.0\n",
      "prod_DEL_0512_TPP_MEM = 0.0\n",
      "prod_DEL_0512_TPP_NCE_1.5_GM = 0.0\n",
      "prod_DEL_0512_TPP_NCE_3.5_GM = 0.0\n",
      "prod_DEL_0512_TPP_NCE_42GM_TUMBLER = 0.0\n",
      "prod_DEL_0512_TPP_NCE_7_GM = 0.0\n",
      "prod_DEL_0512_TPP_NCE_CL_190G_JAR = 0.0\n",
      "prod_DEL_0512_TPP_NCE_CL_190G_JAR_CHD = 0.0\n",
      "prod_DEL_0512_TPP_NCE__0.7_GM = 0.0\n",
      "prod_DEL_0512_TPP_NESTEA_ICE_42GM = 0.0\n",
      "prod_DEL_0512_TPP_NESTEA_ICE_500GM = 0.0\n",
      "prod_DEL_0512_TPP_SAUCES_DLH = 0.0\n",
      "prod_DEL_0512_TPP_SNR_50GM = 0.0\n",
      "prod_DEL_0512_TPP_SOUP_REST = 0.0\n",
      "prod_DEL_0513_CNC_OG_BAR_1 = 0.0\n",
      "prod_DEL_0513_CNC_OG_CHOO = 0.0\n",
      "prod_DEL_0513_CNC_OG_ECL_CHOC_POLY = 0.0\n",
      "prod_DEL_0513_CNC_OG_KITKAT = 0.0\n",
      "prod_DEL_0513_CNC_OG_MUNCH = 0.0\n",
      "prod_DEL_0513_CNC_OG_MUNCH_N = 0.0\n",
      "prod_DEL_0513_CNC_TPP_DNCR_RETAIL_DL = 0.0\n",
      "prod_DEL_0513_CNC_TPP_POLO_FASHLQD = 0.0\n",
      "prod_DEL_0513_CNC_TPP_POLO_HILL = 0.0\n",
      "prod_DEL_0513_CNC_TPP_ROLLZ_RDWS = 0.0\n",
      "prod_DEL_0513_CNC_TPP_ROLLZ_RET = 0.0\n",
      "prod_DEL_0513_CNC_TPP_VAECL = 0.0\n",
      "prod_DEL_0513_CP_AG_SOUPS = 0.0\n",
      "prod_DEL_0513_CP_BEV_CAPUNO_LQD = 0.0\n",
      "prod_DEL_0513_GHEE_1_LTR_TPP_D_123N = 0.0\n",
      "prod_DEL_0513_OG_SAUCES_REST = 0.0\n",
      "prod_DEL_0513_TPP_BEV_NCL_200_GM_BB = 0.0\n",
      "prod_DEL_0513_TPP_BEV_NCL_7GM = 0.0\n",
      "prod_DEL_0513_TPP_BEV_NSTEA_100G_DL = 0.0\n",
      "prod_DEL_0513_TPP_BEV_NSTEA__DL = 0.0\n",
      "prod_DEL_0513_TPP_BEV_SNRP_1_KG_DL = 0.0\n",
      "prod_DEL_0513_TPP_BEV_SNRP_500G_DL = 0.0\n",
      "prod_DEL_0513_TPP_EVD_D123 = 0.0\n",
      "prod_DEL_0513_TPP_MAGICAL = 0.0\n",
      "prod_DEL_0513_TPP_MBM_DNCR_CHD. = 0.0\n",
      "prod_DEL_0513_TPP_SAUCES_DLH = 0.0\n",
      "prod_SAP_1_ATTA_GET_1_PICHKOO_FREE = 0.0\n"
     ]
    }
   ],
   "source": [
    "for v in prob.variables():\n",
    "    if v.varValue>=0:\n",
    "        print(v.name, \"=\", v.varValue)"
   ]
  },
  {
   "cell_type": "code",
   "execution_count": 60,
   "metadata": {},
   "outputs": [],
   "source": [
    "obj = value(prob.objective)"
   ]
  },
  {
   "cell_type": "code",
   "execution_count": 61,
   "metadata": {},
   "outputs": [
    {
     "name": "stdout",
     "output_type": "stream",
     "text": [
      "The total optimised profit is in: Rs1264.72\n"
     ]
    }
   ],
   "source": [
    "print(\"The total optimised profit is in: Rs{}\".format(round(obj,2)))"
   ]
  },
  {
   "cell_type": "code",
   "execution_count": null,
   "metadata": {},
   "outputs": [],
   "source": []
  }
 ],
 "metadata": {
  "kernelspec": {
   "display_name": "Python 3",
   "language": "python",
   "name": "python3"
  },
  "language_info": {
   "codemirror_mode": {
    "name": "ipython",
    "version": 3
   },
   "file_extension": ".py",
   "mimetype": "text/x-python",
   "name": "python",
   "nbconvert_exporter": "python",
   "pygments_lexer": "ipython3",
   "version": "3.6.7"
  }
 },
 "nbformat": 4,
 "nbformat_minor": 2
}
